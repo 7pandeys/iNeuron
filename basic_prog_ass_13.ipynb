{
  "nbformat": 4,
  "nbformat_minor": 0,
  "metadata": {
    "colab": {
      "name": "Untitled1.ipynb",
      "provenance": [],
      "authorship_tag": "ABX9TyOoZjkBYWXMPu1H6DW8oGlI",
      "include_colab_link": true
    },
    "kernelspec": {
      "name": "python3",
      "display_name": "Python 3"
    },
    "language_info": {
      "name": "python"
    }
  },
  "cells": [
    {
      "cell_type": "markdown",
      "metadata": {
        "id": "view-in-github",
        "colab_type": "text"
      },
      "source": [
        "<a href=\"https://colab.research.google.com/github/7pandeys/iNeuron/blob/Root/basic_prog_ass_13.ipynb\" target=\"_parent\"><img src=\"https://colab.research.google.com/assets/colab-badge.svg\" alt=\"Open In Colab\"/></a>"
      ]
    },
    {
      "cell_type": "code",
      "metadata": {
        "colab": {
          "base_uri": "https://localhost:8080/"
        },
        "id": "ctfprHir4cUY",
        "outputId": "80fd008d-c6ec-463f-c2e2-a79e8cd8764d"
      },
      "source": [
        "from math import sqrt\n",
        "def f():\n",
        "    c,h = 50,30\n",
        "    d=input(\"Enter the value in comma seperated : \")\n",
        "    l=d.split(sep=\",\")\n",
        "    print(l)\n",
        "    for i in range(len(l)):\n",
        "        l[i]= str(int(sqrt((2*c*int(l[i]))/h)))\n",
        "    s=\",\".join(l)\n",
        "    print(\"out : \",s)\n",
        "    return 1\n",
        "\n",
        "f()"
      ],
      "execution_count": 1,
      "outputs": [
        {
          "output_type": "stream",
          "text": [
            "Enter the value in comma seperated : 100,180,150\n",
            "['100', '180', '150']\n",
            "out :  18,24,22\n"
          ],
          "name": "stdout"
        },
        {
          "output_type": "execute_result",
          "data": {
            "text/plain": [
              "1"
            ]
          },
          "metadata": {
            "tags": []
          },
          "execution_count": 1
        }
      ]
    },
    {
      "cell_type": "code",
      "metadata": {
        "colab": {
          "base_uri": "https://localhost:8080/"
        },
        "id": "Y2_FSU2t4k9X",
        "outputId": "bf27fd22-971e-4cd1-ec16-cf7a55e1b0f5"
      },
      "source": [
        "\n",
        "import numpy as n1\n",
        "def f1(x,y):\n",
        "    l= [i*j for i in range(x) for j in range(y)]\n",
        "    a=n1.array(l).reshape(x,y)\n",
        "    return a\n",
        "\n",
        "f1(3,5)"
      ],
      "execution_count": 2,
      "outputs": [
        {
          "output_type": "execute_result",
          "data": {
            "text/plain": [
              "array([[0, 0, 0, 0, 0],\n",
              "       [0, 1, 2, 3, 4],\n",
              "       [0, 2, 4, 6, 8]])"
            ]
          },
          "metadata": {
            "tags": []
          },
          "execution_count": 2
        }
      ]
    },
    {
      "cell_type": "code",
      "metadata": {
        "colab": {
          "base_uri": "https://localhost:8080/",
          "height": 53
        },
        "id": "DQKUTa9F4pBQ",
        "outputId": "71be7bb0-777f-4295-cb98-1f17b77cd58e"
      },
      "source": [
        "def f2(s=input(\"Enter words comma seperated : \")):\n",
        "    l=s.split(sep=\",\")\n",
        "    l.sort()\n",
        "    res = \",\".join(l)\n",
        "    return res\n",
        "f2()"
      ],
      "execution_count": 3,
      "outputs": [
        {
          "output_type": "stream",
          "text": [
            "Enter words comma seperated :  without,hello,bag,world\n"
          ],
          "name": "stdout"
        },
        {
          "output_type": "execute_result",
          "data": {
            "application/vnd.google.colaboratory.intrinsic+json": {
              "type": "string"
            },
            "text/plain": [
              "' without,bag,hello,world'"
            ]
          },
          "metadata": {
            "tags": []
          },
          "execution_count": 3
        }
      ]
    },
    {
      "cell_type": "code",
      "metadata": {
        "colab": {
          "base_uri": "https://localhost:8080/",
          "height": 53
        },
        "id": "8LwJXwVl40zg",
        "outputId": "4d722bb5-bfd8-4401-f40d-ec36827b8417"
      },
      "source": [
        "def f3(s=input(\"Enter words space seperated : \")):\n",
        "    l=list(set(s.split(sep=\" \")))\n",
        "    l.sort()\n",
        "    res = \" \".join(l)\n",
        "    return res\n",
        "f3()"
      ],
      "execution_count": 4,
      "outputs": [
        {
          "output_type": "stream",
          "text": [
            "Enter words space seperated : hello world and practice makes perfect and hello world again\n"
          ],
          "name": "stdout"
        },
        {
          "output_type": "execute_result",
          "data": {
            "application/vnd.google.colaboratory.intrinsic+json": {
              "type": "string"
            },
            "text/plain": [
              "'again and hello makes perfect practice world'"
            ]
          },
          "metadata": {
            "tags": []
          },
          "execution_count": 4
        }
      ]
    },
    {
      "cell_type": "code",
      "metadata": {
        "colab": {
          "base_uri": "https://localhost:8080/",
          "height": 53
        },
        "id": "A8k75SQK41yU",
        "outputId": "8ff1986b-b531-40bb-8e91-c64e2fbb6f2b"
      },
      "source": [
        "def f4(s=input(\"Enter alphanumeric string : \")):\n",
        "    cnt1,cnt2,cnt3 = 0,0,0\n",
        "    for i in range(len(s)):\n",
        "        if s[i] in \"0123456789\":\n",
        "            cnt1 = cnt1+1\n",
        "        elif s[i].lower() in \"abcdefghijklmnopqrstuvwxyz\":\n",
        "            cnt2 = cnt2+1\n",
        "        else:\n",
        "            cnt3 = cnt3+1\n",
        "    return \"LETTERS \" + str(cnt2) + \" DIGITS \" + str(cnt1) + \" OTHERS \" + str(cnt3)\n",
        "                      \n",
        "f4()"
      ],
      "execution_count": 5,
      "outputs": [
        {
          "output_type": "stream",
          "text": [
            "Enter alphanumeric string : hello world! 123\n"
          ],
          "name": "stdout"
        },
        {
          "output_type": "execute_result",
          "data": {
            "application/vnd.google.colaboratory.intrinsic+json": {
              "type": "string"
            },
            "text/plain": [
              "'LETTERS 10 DIGITS 3 OTHERS 3'"
            ]
          },
          "metadata": {
            "tags": []
          },
          "execution_count": 5
        }
      ]
    },
    {
      "cell_type": "code",
      "metadata": {
        "colab": {
          "base_uri": "https://localhost:8080/"
        },
        "id": "ogyOfXgG5B1v",
        "outputId": "86dbd5e8-aa2c-43bf-c2bf-030f9ada4f44"
      },
      "source": [
        "\n",
        "def f5(p=input(\"Enter password : \")):\n",
        "    \n",
        "    l=p.split(\",\")\n",
        "    for j in range(len(l)):\n",
        "        c,c1,c2,c3=0,0,0,0\n",
        "        s=l[j]\n",
        "        #print(s)\n",
        "        if len(s) > 5 and len(s) < 13:\n",
        "            for i in range(len(s)):\n",
        "                if s[i] in \"abcdefghijklmnopqrstuvwxyz\":\n",
        "                    c=c+1\n",
        "            for i in range(len(s)):\n",
        "                if s[i] in \"ABCDEFGHIJKLMNOPQRSTUVWXYZ\":\n",
        "                    c1=c1+1\n",
        "            for i in range(len(s)):\n",
        "                if s[i] in \"0123456789\":\n",
        "                    c2=c2+1\n",
        "            for i in range(len(s)):\n",
        "                if s[i] in \"$#@\":\n",
        "                    c3=c3+1\n",
        "        if(c1>0 and c>0 and c2>0 and c3>0):\n",
        "            print(s)\n",
        "        #else:\n",
        "        #    print(c1,c2,c3,c)\n",
        "    return None\n",
        "f5()"
      ],
      "execution_count": 8,
      "outputs": [
        {
          "output_type": "stream",
          "text": [
            "Enter password : ABd1234@1,a F1#,2w3E*,2We3345\n",
            "ABd1234@1\n"
          ],
          "name": "stdout"
        }
      ]
    }
  ]
}