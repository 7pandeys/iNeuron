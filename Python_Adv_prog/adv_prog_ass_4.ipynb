{
 "cells": [
  {
   "cell_type": "code",
   "execution_count": 28,
   "id": "c66dadcd",
   "metadata": {},
   "outputs": [
    {
     "name": "stdout",
     "output_type": "stream",
     "text": [
      "6765\n"
     ]
    }
   ],
   "source": [
    "def fib(n):\n",
    "    #l=[]\n",
    "    a, b = 0, 1\n",
    "    for _ in range(n):\n",
    "        #l.append[a]\n",
    "        yield a\n",
    "        a, b = b, a + b\n",
    "\n",
    "def fastfib(n):\n",
    "    #print(list(fib(n+1))[-1])\n",
    "    return (list(fib(n+1))[-1])\n",
    "\n",
    "print(fastfib(20))"
   ]
  },
  {
   "cell_type": "code",
   "execution_count": 39,
   "id": "654ca8bb",
   "metadata": {},
   "outputs": [
    {
     "data": {
      "text/plain": [
       "'68 65 6c 6c 6f 20 77 6f 72 6c 64'"
      ]
     },
     "execution_count": 39,
     "metadata": {},
     "output_type": "execute_result"
    }
   ],
   "source": [
    "def convert_to_hex(s):\n",
    "    l=[]\n",
    "    a=\"\"\n",
    "    for i in s:\n",
    "        l.append(hex(ord(i))[2:])\n",
    "    a=\" \".join(l)\n",
    "    return a\n",
    "        \n",
    "    \n",
    "\n",
    "convert_to_hex(\"hello world\")"
   ]
  },
  {
   "cell_type": "code",
   "execution_count": 56,
   "id": "218453a7",
   "metadata": {},
   "outputs": [
    {
     "data": {
      "text/plain": [
       "'Where did my vowels go?'"
      ]
     },
     "execution_count": 56,
     "metadata": {},
     "output_type": "execute_result"
    }
   ],
   "source": [
    "def uncensor(w,s):\n",
    "    l=list(w)\n",
    "    p=list(s)\n",
    "    for i,e in enumerate(l):\n",
    "        if e=='*':\n",
    "            l[i]=p[0]\n",
    "            p.remove(p[0])\n",
    "    \n",
    "    return \"\".join(l)\n",
    "\n",
    "uncensor(\"Wh*r* d*d my v*w*ls g*?\", \"eeioeo\")"
   ]
  },
  {
   "cell_type": "code",
   "execution_count": 103,
   "id": "f4872aeb",
   "metadata": {},
   "outputs": [
    {
     "data": {
      "text/plain": [
       "'dns.google'"
      ]
     },
     "execution_count": 103,
     "metadata": {},
     "output_type": "execute_result"
    }
   ],
   "source": [
    "from dns import resolver\n",
    "from dns import reversename\n",
    "def get_domain(s):\n",
    "    addr = reversename.from_address(s)\n",
    "    return str(dns.resolver.resolve(addr, \"PTR\")[0])[:-1:]\n",
    "\n",
    "get_domain(\"8.8.8.8\")"
   ]
  },
  {
   "cell_type": "code",
   "execution_count": 72,
   "id": "54853bf7",
   "metadata": {},
   "outputs": [
    {
     "data": {
      "text/plain": [
       "24883200"
      ]
     },
     "execution_count": 72,
     "metadata": {},
     "output_type": "execute_result"
    }
   ],
   "source": [
    "def fact_of_fact(n):\n",
    "    mul=1\n",
    "    for i in range(1,n+1):\n",
    "        #print(i)\n",
    "        for j in range(1,i+1):\n",
    "            #print(j,i)\n",
    "            mul=mul*j\n",
    "    return mul\n",
    "        \n",
    "\n",
    "fact_of_fact(6)"
   ]
  }
 ],
 "metadata": {
  "kernelspec": {
   "display_name": "Python 3 (ipykernel)",
   "language": "python",
   "name": "python3"
  },
  "language_info": {
   "codemirror_mode": {
    "name": "ipython",
    "version": 3
   },
   "file_extension": ".py",
   "mimetype": "text/x-python",
   "name": "python",
   "nbconvert_exporter": "python",
   "pygments_lexer": "ipython3",
   "version": "3.9.6"
  }
 },
 "nbformat": 4,
 "nbformat_minor": 5
}
