{
 "cells": [
  {
   "cell_type": "code",
   "execution_count": 54,
   "id": "309d05a3",
   "metadata": {},
   "outputs": [
    {
     "name": "stdout",
     "output_type": "stream",
     "text": [
      "['12', '//', '0']\n"
     ]
    },
    {
     "data": {
      "text/plain": [
       "-1"
      ]
     },
     "execution_count": 54,
     "metadata": {},
     "output_type": "execute_result"
    }
   ],
   "source": [
    "def arithmetic_operation(s):\n",
    "    l=s.split()\n",
    "    l[0]=int(l[0])\n",
    "    l[2]=int(l[2])\n",
    "    if l[1]==\"+\":\n",
    "        return l[0] + l[2]\n",
    "    elif l[1]==\"-\":\n",
    "        return l[0] + l[2]\n",
    "    elif l[1]==\"*\":\n",
    "        return l[0] + l[2]\n",
    "    elif l[1]==\"//\":\n",
    "        if l[2] == 0:\n",
    "            return -1\n",
    "        else:\n",
    "            return l[0] // l[2]\n",
    "    else:\n",
    "        return 1\n",
    "    \n",
    "    \n",
    "arithmetic_operation(\"12 // 0\") "
   ]
  },
  {
   "cell_type": "code",
   "execution_count": 71,
   "id": "fa6e4729",
   "metadata": {},
   "outputs": [
    {
     "data": {
      "text/plain": [
       "47.08"
      ]
     },
     "execution_count": 71,
     "metadata": {},
     "output_type": "execute_result"
    }
   ],
   "source": [
    "from functools import reduce\n",
    "import operator\n",
    "from math import sqrt\n",
    "def perimeter(l):\n",
    "    d=[]\n",
    "    #distance b/w coordinates\n",
    "    x=l[0][0]\n",
    "    x1=l[1][0]\n",
    "    y=l[0][1]\n",
    "    y1=l[1][1]\n",
    "    d.append(sqrt((x-x1)**2 + (y-y1)**2))\n",
    "    x=l[0][0]\n",
    "    x1=l[2][0]\n",
    "    y=l[0][1]\n",
    "    y1=l[2][1]\n",
    "    d.append(sqrt((x-x1)**2 + (y-y1)**2))\n",
    "    x=l[2][0]\n",
    "    x1=l[1][0]\n",
    "    y=l[2][1]\n",
    "    y1=l[1][1]\n",
    "    d.append(sqrt((x-x1)**2 + (y-y1)**2))\n",
    "    s=reduce(operator.add,d)\n",
    "    return round(s,2)\n",
    "    \n",
    "    \n",
    "perimeter( [ [15, 7], [5, 22], [11, 1] ] )"
   ]
  },
  {
   "cell_type": "code",
   "execution_count": 95,
   "id": "1fa9bf7b",
   "metadata": {},
   "outputs": [
    {
     "data": {
      "text/plain": [
       "4"
      ]
     },
     "execution_count": 95,
     "metadata": {},
     "output_type": "execute_result"
    }
   ],
   "source": [
    "def tall(l):\n",
    "    d={}\n",
    "    for k in range(0,len(l[0])):\n",
    "        d[k]=0\n",
    "    #print(d)\n",
    "    for i in l:\n",
    "        #print(i)\n",
    "        for j in range(len(i)):\n",
    "            if i[j]==1:\n",
    "                d[j]=d[j]+1\n",
    "    m=list(d.values())\n",
    "    m.sort()\n",
    "    return m[-1]\n",
    "            \n",
    "            \n",
    "\n",
    "tall([[0, 0, 0, 0, 0, 0],\n",
    "[0, 0, 0, 0, 1, 0],\n",
    "[0, 0, 1, 0, 1, 0],\n",
    "[0, 1, 1, 1, 1, 0],\n",
    "[1, 1, 1, 1, 1, 1]]\n",
    ")"
   ]
  },
  {
   "cell_type": "code",
   "execution_count": null,
   "id": "dbb7cb3f",
   "metadata": {},
   "outputs": [],
   "source": []
  }
 ],
 "metadata": {
  "kernelspec": {
   "display_name": "Python 3 (ipykernel)",
   "language": "python",
   "name": "python3"
  },
  "language_info": {
   "codemirror_mode": {
    "name": "ipython",
    "version": 3
   },
   "file_extension": ".py",
   "mimetype": "text/x-python",
   "name": "python",
   "nbconvert_exporter": "python",
   "pygments_lexer": "ipython3",
   "version": "3.9.6"
  }
 },
 "nbformat": 4,
 "nbformat_minor": 5
}
