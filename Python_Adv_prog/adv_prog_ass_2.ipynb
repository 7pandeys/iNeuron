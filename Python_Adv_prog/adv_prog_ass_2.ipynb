{
 "cells": [
  {
   "cell_type": "code",
   "execution_count": 6,
   "id": "7147bb8a",
   "metadata": {},
   "outputs": [
    {
     "data": {
      "text/plain": [
       "141"
      ]
     },
     "execution_count": 6,
     "metadata": {},
     "output_type": "execute_result"
    }
   ],
   "source": [
    "def pentagonal(n):\n",
    "    return int((5*n**2 - 5*n + 2)/2)\n",
    "            \n",
    "pentagonal(8)"
   ]
  },
  {
   "cell_type": "code",
   "execution_count": 14,
   "id": "22e9b9a6",
   "metadata": {},
   "outputs": [
    {
     "data": {
      "text/plain": [
       "'1lpp0'"
      ]
     },
     "execution_count": 14,
     "metadata": {},
     "output_type": "execute_result"
    }
   ],
   "source": [
    "def v(s):\n",
    "    l=list(s[::-1])\n",
    "    d={'a':0,'e':1,'i':2,'o':2,'u':3}\n",
    "    for idx, item in enumerate(l):\n",
    "        if item in d.keys():\n",
    "            l[idx]=str(d[item])\n",
    "    return \"\".join(l)\n",
    "\n",
    "v(\"apple\")"
   ]
  },
  {
   "cell_type": "code",
   "execution_count": 16,
   "id": "bcbaacd0",
   "metadata": {},
   "outputs": [
    {
     "data": {
      "text/plain": [
       "'1lpp0aca'"
      ]
     },
     "execution_count": 16,
     "metadata": {},
     "output_type": "execute_result"
    }
   ],
   "source": [
    "def encrypt(s):\n",
    "    return v(s)+\"aca\"\n",
    "encrypt(\"apple\")"
   ]
  },
  {
   "cell_type": "code",
   "execution_count": 49,
   "id": "acc8bdad",
   "metadata": {},
   "outputs": [
    {
     "data": {
      "text/plain": [
       "True"
      ]
     },
     "execution_count": 49,
     "metadata": {},
     "output_type": "execute_result"
    }
   ],
   "source": [
    "import datetime\n",
    "def has_friday_13(m,y):\n",
    "    for i in range(1,32):\n",
    "        dt = str(i)+\"/\"+str(m)+\"/\"+str(y)\n",
    "        day, month, year = (int(x) for x in dt.split('/'))    \n",
    "        ans = datetime.date(year, month, day)\n",
    "        if(ans.strftime(\"%A\") == 'Friday'):\n",
    "            return True\n",
    "    else:\n",
    "        return False\n",
    "        \n",
    "has_friday_13(3, 2020)"
   ]
  },
  {
   "cell_type": "code",
   "execution_count": 21,
   "id": "0d16a946",
   "metadata": {},
   "outputs": [
    {
     "data": {
      "text/plain": [
       "2"
      ]
     },
     "execution_count": 21,
     "metadata": {},
     "output_type": "execute_result"
    }
   ],
   "source": [
    "import regex as re\n",
    "lst = [\"bad cookie\", \"good cookie\", \"bad cookie\", \"good cookie\", \"good cookie\"]\n",
    "pattern=\"bad cookie\"\n",
    "len(re.findall(pattern, \", \".join(lst)))"
   ]
  },
  {
   "cell_type": "code",
   "execution_count": 17,
   "id": "fe9c73e9",
   "metadata": {},
   "outputs": [
    {
     "data": {
      "text/plain": [
       "['cows', 'pig']"
      ]
     },
     "execution_count": 17,
     "metadata": {},
     "output_type": "execute_result"
    }
   ],
   "source": [
    "def pluralize(l):\n",
    "    d={}\n",
    "    l1=[]\n",
    "    for i in l:\n",
    "        if i in d.keys():\n",
    "            d[i]=d[i]+1\n",
    "        else:\n",
    "            d[i]=1\n",
    "    for i in d.keys():\n",
    "        if d[i] > 1:\n",
    "            l1.append(i+\"s\")\n",
    "        else:\n",
    "            l1.append(i)\n",
    "    return l1\n",
    "        \n",
    "\n",
    "pluralize([\"cow\", \"pig\", \"cow\", \"cow\"])"
   ]
  },
  {
   "cell_type": "code",
   "execution_count": null,
   "id": "61b3bc9f",
   "metadata": {},
   "outputs": [],
   "source": []
  }
 ],
 "metadata": {
  "kernelspec": {
   "display_name": "Python 3 (ipykernel)",
   "language": "python",
   "name": "python3"
  },
  "language_info": {
   "codemirror_mode": {
    "name": "ipython",
    "version": 3
   },
   "file_extension": ".py",
   "mimetype": "text/x-python",
   "name": "python",
   "nbconvert_exporter": "python",
   "pygments_lexer": "ipython3",
   "version": "3.9.6"
  }
 },
 "nbformat": 4,
 "nbformat_minor": 5
}
