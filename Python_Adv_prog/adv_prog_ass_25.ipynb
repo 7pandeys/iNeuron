{
 "cells": [
  {
   "cell_type": "code",
   "execution_count": 1,
   "id": "eb1358d6",
   "metadata": {},
   "outputs": [
    {
     "name": "stdout",
     "output_type": "stream",
     "text": [
      "[1, 2, 3, 4, 1, 2, 3, 4, 1, 2, 3, 4]\n",
      "[1, 2, 3, 4, 1, 2, 3, 4, 1, 2, 3, 4, 1]\n",
      "[1]\n",
      "[1, 3, 4]\n"
     ]
    }
   ],
   "source": [
    "# * 1. rite four functio that directly mutate a list\n",
    "\n",
    "import numpy as np\n",
    "import numpy as numpy\n",
    "\n",
    "\n",
    "def repeat(lst, n):  # Repeat lst n times.\n",
    "    return lst * n\n",
    "\n",
    "\n",
    "def add(lst, x):  # Adds x to the end of the lst.\n",
    "    lst.append(x)\n",
    "    return lst\n",
    "\n",
    "\n",
    "# Removes all elements between indices m and n inclusive in lst.\n",
    "def remove(lst, m, n):\n",
    "    for i in range(m, n):\n",
    "        lst.pop(m)\n",
    "    return lst\n",
    "\n",
    "\n",
    "def concat(lst, x):  # concatenates lst with x(another list).\n",
    "    lst = lst + x\n",
    "    return lst\n",
    "\n",
    "\n",
    "lst = [1, 2, 3, 4]\n",
    "n = 3\n",
    "x = 1\n",
    "m = 1\n",
    "n1 = 12\n",
    "lst = repeat(lst, n)\n",
    "print(lst)\n",
    "lst = add(lst, x)\n",
    "print(lst)\n",
    "lst = remove(lst, m, n1+1)\n",
    "print(lst)\n",
    "lst = concat(lst, [3, 4])\n",
    "print(lst)"
   ]
  },
  {
   "cell_type": "code",
   "execution_count": 2,
   "id": "ae18959d",
   "metadata": {},
   "outputs": [
    {
     "name": "stdout",
     "output_type": "stream",
     "text": [
      "{'black': 0, 'white': 0}\n",
      "{'black': 1, 'white': 0}\n",
      "{'black': 1, 'white': 3}\n",
      "{'black': 0, 'white': 2}\n"
     ]
    }
   ],
   "source": [
    "# * 2. Mastermind game\n",
    "\n",
    "def guess_score(m, n):\n",
    "    b = 0\n",
    "    w = 0\n",
    "    d = {}\n",
    "    m = list(m)\n",
    "    n = list(n)\n",
    "    m_l = len(m)-1\n",
    "    if len(m) == len(n) and (len(m) == 4 or len(m) == 6):\n",
    "        for i in range(m_l):\n",
    "            if m[i] == n[i]:\n",
    "                b = b+1\n",
    "                m.remove(m[i])\n",
    "                n.remove(n[i])\n",
    "                m_l = m_l - 1\n",
    "\n",
    "        # print(m, n, m_l)\n",
    "        n_s = list(set(n))\n",
    "        m_s = list(set(m))\n",
    "        # print(n_s, m_s)\n",
    "        for i in range(len(n_s)):\n",
    "            if n_s[i] in m_s:\n",
    "                w = w + 1\n",
    "\n",
    "        # print(m, n, m_l)\n",
    "\n",
    "    else:\n",
    "        print(\"No Rule followed\")\n",
    "\n",
    "    d = {\"black\": b, \"white\": w}\n",
    "    return d\n",
    "\n",
    "\n",
    "print(guess_score(\"1423\", \"5678\"))\n",
    "print(guess_score(\"1423\", \"2222\"))\n",
    "print(guess_score(\"1423\", \"1234\"))\n",
    "print(guess_score(\"1423\", \"2211\"))"
   ]
  },
  {
   "cell_type": "code",
   "execution_count": 3,
   "id": "24a21d0b",
   "metadata": {},
   "outputs": [
    {
     "name": "stdout",
     "output_type": "stream",
     "text": [
      "[4, 5]\n",
      "[2, 5]\n",
      "None\n"
     ]
    }
   ],
   "source": [
    "#  * 3. Product of two numbers in the list\n",
    "\n",
    "def two_product(l, n):\n",
    "    m = len(l)\n",
    "    for i in range(m):\n",
    "        for j in range(len(l)-1):\n",
    "            if i != j and l[j]*l[i] == n:\n",
    "                return [l[j], l[i]]\n",
    "\n",
    "\n",
    "print(two_product([1, 2, -1, 4, 5], 20))  # ➞ [4, 5]\n",
    "\n",
    "print(two_product([1, 2, 3, 4, 5], 10))  # ➞ [2, 5]\n",
    "\n",
    "print(two_product([100, 12, 4, 1, 2], 15))  # ➞ None"
   ]
  },
  {
   "cell_type": "code",
   "execution_count": 4,
   "id": "d41fcbb2",
   "metadata": {},
   "outputs": [
    {
     "name": "stdout",
     "output_type": "stream",
     "text": [
      "['10-02-2016_12:30', '10-02-2018_12:15', '10-02-2018_12:30']\n",
      "['10-02-2018_12:30', '10-02-2018_12:15', '10-02-2016_12:30']\n"
     ]
    }
   ],
   "source": [
    "# * 4.  Sort Dates\n",
    "\n",
    "def sort_dates(dats, order):\n",
    "    if order == 'ASC':\n",
    "        dats.sort()\n",
    "        return dats\n",
    "    elif order == 'DSC':\n",
    "        dats.sort(reverse=True)\n",
    "        return dats\n",
    "    else:\n",
    "        return \"Order is not correct\"\n",
    "\n",
    "\n",
    "print(sort_dates(\n",
    "    [\"10-02-2018_12:30\", \"10-02-2016_12:30\", \"10-02-2018_12:15\"], \"ASC\"))\n",
    "print(sort_dates(\n",
    "    [\"10-02-2018_12:30\", \"10-02-2016_12:30\", \"10-02-2018_12:15\"], \"DSC\"))"
   ]
  },
  {
   "cell_type": "code",
   "execution_count": 5,
   "id": "9769bffb",
   "metadata": {},
   "outputs": [
    {
     "name": "stdout",
     "output_type": "stream",
     "text": [
      "['', 'eeeee']\n",
      "['aaaaa', 'aaaaaeeeee', 'aaaaaeeeeeiiiii', 'aaaaaeeeeeiiiiiooooo']\n",
      "['', '', '']\n"
     ]
    },
    {
     "data": {
      "text/plain": [
       "['', '', '']"
      ]
     },
     "execution_count": 5,
     "metadata": {},
     "output_type": "execute_result"
    }
   ],
   "source": [
    "# * 5 informed to support for correction\n",
    "\n",
    "\n",
    "def same_vowel_group(l):\n",
    "    v = ['a', 'e', 'i', 'o', 'u']\n",
    "    k = []\n",
    "    str = \"\"\n",
    "    for i in range(len(l)-1):\n",
    "        for j in range(5):\n",
    "            if v[i] in l[i]:\n",
    "                str = str+v[i]\n",
    "\n",
    "        k.append(str)\n",
    "    print(k)\n",
    "    return k\n",
    "\n",
    "\n",
    "same_vowel_group([\"toe\", \"ocelot\", \"maniac\"])  # ➞ [\"toe\", \"ocelot\"]\n",
    "\n",
    "same_vowel_group([\"many\", \"carriage\", \"emit\",\n",
    "                 \"apricot\", \"animal\"])  # ➞ [\"many\"]\n",
    "\n",
    "same_vowel_group([\"hoops\", \"chuff\", \"bot\", \"bottom\"]\n",
    "                 )  # ➞ [\"hoops\", \"bot\", \"bottom\"]"
   ]
  },
  {
   "cell_type": "code",
   "execution_count": 6,
   "id": "c0cc8c8a",
   "metadata": {},
   "outputs": [
    {
     "name": "stdout",
     "output_type": "stream",
     "text": [
      "2520\n",
      "27965340\n",
      "2333760\n"
     ]
    }
   ],
   "source": [
    "# * 6 LCM\n",
    "def lcm_of_list(l):\n",
    "    print(np.lcm.reduce(l))\n",
    "    return\n",
    "\n",
    "\n",
    "lcm_of_list([1, 2, 3, 4, 5, 6, 7, 8, 9, 10])  # ➞ 2520\n",
    "\n",
    "lcm_of_list([13, 6, 17, 18, 19, 20, 37])  # ➞ 27965340\n",
    "\n",
    "lcm_of_list([44, 64, 12, 17, 65])  # ➞ 2333760"
   ]
  }
 ],
 "metadata": {
  "kernelspec": {
   "display_name": "Python 3.9.1 64-bit",
   "language": "python",
   "name": "python391jvsc74a57bd0100e3984d5c280f0fb63b059759aa99075e9aafa25a6d0deff42e20732c08080"
  },
  "language_info": {
   "codemirror_mode": {
    "name": "ipython",
    "version": 3
   },
   "file_extension": ".py",
   "mimetype": "text/x-python",
   "name": "python",
   "nbconvert_exporter": "python",
   "pygments_lexer": "ipython3",
   "version": "3.9.1"
  }
 },
 "nbformat": 4,
 "nbformat_minor": 5
}
