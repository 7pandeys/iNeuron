{
 "cells": [
  {
   "cell_type": "code",
   "execution_count": 105,
   "id": "77ac31e4",
   "metadata": {},
   "outputs": [
    {
     "name": "stdout",
     "output_type": "stream",
     "text": [
      "None\n",
      "None\n"
     ]
    }
   ],
   "source": [
    "def f(n):\n",
    "    pass\n",
    "\n",
    "print(f(3))\n",
    "\n",
    "print(f(2))"
   ]
  },
  {
   "cell_type": "code",
   "execution_count": 23,
   "id": "141e32ef",
   "metadata": {},
   "outputs": [
    {
     "name": "stdout",
     "output_type": "stream",
     "text": [
      "None\n",
      "None\n"
     ]
    }
   ],
   "source": [
    "def majority_vote(l):\n",
    "    d={}\n",
    "    p=[]\n",
    "    c=0\n",
    "    for i in l:\n",
    "        if i in d.keys():\n",
    "            d[i]=d[i]+1\n",
    "        else:\n",
    "            d[i]=1\n",
    "    o=list(d.values())\n",
    "    for i in o:\n",
    "        if i==max(d.values()):\n",
    "            c=c+1\n",
    "            \n",
    "    if c>1:    \n",
    "        return None\n",
    "    else:\n",
    "        max(d.values())\n",
    "\n",
    "print(majority_vote([\"A\", \"B\", \"B\", \"A\", \"C\", \"C\"]))\n",
    "print(majority_vote([\"C\", \"B\", \"B\", \"C\", \"C\", \"C\"]))"
   ]
  },
  {
   "cell_type": "code",
   "execution_count": 7,
   "id": "deeb16ca",
   "metadata": {},
   "outputs": [
    {
     "data": {
      "text/plain": [
       "['-----', 'is', '-', 'Wednesday!']"
      ]
     },
     "execution_count": 7,
     "metadata": {},
     "output_type": "execute_result"
    }
   ],
   "source": [
    "def censor_string(s,l,p):\n",
    "    k=s.split(\" \")\n",
    "    for i,e in enumerate(k):\n",
    "        if e in l:\n",
    "            k[i] = \"-\"*len(e)\n",
    "    return k\n",
    "\n",
    "censor_string(\"Today is a Wednesday!\", [\"Today\", \"a\"], \"-\")"
   ]
  },
  {
   "cell_type": "code",
   "execution_count": 142,
   "id": "e2193ba7",
   "metadata": {},
   "outputs": [
    {
     "name": "stdout",
     "output_type": "stream",
     "text": [
      "1232\n",
      "True\n",
      "123220\n",
      "False\n"
     ]
    }
   ],
   "source": [
    "def is_polydivisible(n):\n",
    "\n",
    "    s=list(input())\n",
    "    p=\"\"\n",
    "    cnt=0\n",
    "    for i,e in enumerate(s):\n",
    "        p= p+str(int(e))\n",
    "        nm=(int(p)/(i+1))\n",
    "        if int(nm) != nm:\n",
    "            cnt=1\n",
    "    if cnt==1:\n",
    "        print(False)\n",
    "    else:\n",
    "        print(True)\n",
    "    \n",
    "is_polydivisible(1232)\n",
    "is_polydivisible(123220)\n",
    "    "
   ]
  },
  {
   "cell_type": "code",
   "execution_count": 114,
   "id": "2d52d311",
   "metadata": {},
   "outputs": [
    {
     "data": {
      "text/plain": [
       "87"
      ]
     },
     "execution_count": 114,
     "metadata": {},
     "output_type": "execute_result"
    }
   ],
   "source": [
    "def sum_primes(l):\n",
    "    cnt=0\n",
    "    sum=0\n",
    "    for i in l:\n",
    "        cnt=0\n",
    "        for j in range(2,i):\n",
    "            if i%j==0:\n",
    "                cnt=1\n",
    "        if cnt != 1:\n",
    "            sum=sum+i\n",
    "    return sum\n",
    "sum_primes([2, 3, 4, 11, 20, 50, 71])"
   ]
  }
 ],
 "metadata": {
  "kernelspec": {
   "display_name": "Python 3 (ipykernel)",
   "language": "python",
   "name": "python3"
  },
  "language_info": {
   "codemirror_mode": {
    "name": "ipython",
    "version": 3
   },
   "file_extension": ".py",
   "mimetype": "text/x-python",
   "name": "python",
   "nbconvert_exporter": "python",
   "pygments_lexer": "ipython3",
   "version": "3.9.6"
  }
 },
 "nbformat": 4,
 "nbformat_minor": 5
}
