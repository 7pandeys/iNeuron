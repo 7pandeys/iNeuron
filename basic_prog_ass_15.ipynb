{
  "nbformat": 4,
  "nbformat_minor": 0,
  "metadata": {
    "colab": {
      "name": "basic_prog_ass_15.ipynb",
      "provenance": [],
      "authorship_tag": "ABX9TyPTqP3hrbKAOo2DgT1oeUk7",
      "include_colab_link": true
    },
    "kernelspec": {
      "name": "python3",
      "display_name": "Python 3"
    },
    "language_info": {
      "name": "python"
    }
  },
  "cells": [
    {
      "cell_type": "markdown",
      "metadata": {
        "id": "view-in-github",
        "colab_type": "text"
      },
      "source": [
        "<a href=\"https://colab.research.google.com/github/7pandeys/iNeuron/blob/Root/basic_prog_ass_15.ipynb\" target=\"_parent\"><img src=\"https://colab.research.google.com/assets/colab-badge.svg\" alt=\"Open In Colab\"/></a>"
      ]
    },
    {
      "cell_type": "code",
      "metadata": {
        "colab": {
          "base_uri": "https://localhost:8080/"
        },
        "id": "teXeFWmzwGV4",
        "outputId": "86e8daa1-9911-4810-f315-419329fec864"
      },
      "source": [
        "class ass_15():\n",
        "\n",
        "    def div_5_7(self, n):\n",
        "        l = []\n",
        "        for i in range(n):\n",
        "            if i % 5 == 0 and i % 7 == 0:\n",
        "                l.append(i)\n",
        "        yield l\n",
        "\n",
        "    def div_even(self, n):\n",
        "        l = []\n",
        "        for i in range(n):\n",
        "            if i % 2 == 0:\n",
        "                l.append(i)\n",
        "        yield l\n",
        "\n",
        "\n",
        "a = ass_15()\n",
        "print(\"Divisible by 5 and 7 : \", list(a.div_5_7(100))[0])\n",
        "print(\"Even: \", list(a.div_even(10))[0])\n"
      ],
      "execution_count": 1,
      "outputs": [
        {
          "output_type": "stream",
          "text": [
            "Divisible by 5 and 7 :  [0, 35, 70]\n",
            "Even:  [0, 2, 4, 6, 8]\n"
          ],
          "name": "stdout"
        }
      ]
    },
    {
      "cell_type": "code",
      "metadata": {
        "colab": {
          "base_uri": "https://localhost:8080/"
        },
        "id": "bd-iRyPizKF7",
        "outputId": "4a218a5b-8f15-4ba6-bbc0-1401c6fd3a36"
      },
      "source": [
        "# Python program to display the Fibonacci sequence\n",
        "\n",
        "def recur_fibo(n):\n",
        "    if n <= 1:\n",
        "        return n\n",
        "    else:\n",
        "        return(recur_fibo(n-1) + recur_fibo(n-2))\n",
        "\n",
        "\n",
        "n = 7\n",
        "l = []\n",
        "if n <= 0:\n",
        "    print(\"Plese enter a positive integer\")\n",
        "else:\n",
        "    print(\"Fibonacci series\")\n",
        "    for i in range(n+1):\n",
        "        l.append(str(recur_fibo(i)))\n",
        "\n",
        "    print(\",\".join(l))\n"
      ],
      "execution_count": 3,
      "outputs": [
        {
          "output_type": "stream",
          "text": [
            "Fibonacci series\n",
            "0,1,1,2,3,5,8,13\n"
          ],
          "name": "stdout"
        }
      ]
    },
    {
      "cell_type": "code",
      "metadata": {
        "colab": {
          "base_uri": "https://localhost:8080/"
        },
        "id": "AoSRQGO00AZz",
        "outputId": "dbd6804b-a8f2-43e1-a1b5-ca7dd28ae844"
      },
      "source": [
        "def mail(email):\n",
        "    str = email.split('@')[0]\n",
        "    print(str)\n",
        "\n",
        "\n",
        "mail(\"john@google.com\")\n"
      ],
      "execution_count": 4,
      "outputs": [
        {
          "output_type": "stream",
          "text": [
            "john\n"
          ],
          "name": "stdout"
        }
      ]
    },
    {
      "cell_type": "code",
      "metadata": {
        "colab": {
          "base_uri": "https://localhost:8080/"
        },
        "id": "2kk35bom2hsd",
        "outputId": "3802870f-915d-4388-db61-ffbf351e0849"
      },
      "source": [
        "class Shape:\n",
        "    def area(self):\n",
        "        return 0\n",
        "\n",
        "\n",
        "class Square(Shape):\n",
        "    def __init__(self, length):\n",
        "        self.lent = length\n",
        "\n",
        "    def area(self):\n",
        "        return self.lent ** 2\n",
        "\n",
        "\n",
        "p = Shape()\n",
        "s = Square(5)\n",
        "print(\"Parent class : \", p.area())\n",
        "\n",
        "print(\"Child class : \", s.area())\n"
      ],
      "execution_count": 5,
      "outputs": [
        {
          "output_type": "stream",
          "text": [
            "Parent class :  0\n",
            "Child class :  25\n"
          ],
          "name": "stdout"
        }
      ]
    }
  ]
}