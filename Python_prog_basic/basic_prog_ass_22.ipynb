{
 "cells": [
  {
   "cell_type": "code",
   "execution_count": 1,
   "id": "4b9d81aa",
   "metadata": {},
   "outputs": [
    {
     "data": {
      "text/plain": [
       "[3, 6, 9]"
      ]
     },
     "execution_count": 1,
     "metadata": {},
     "output_type": "execute_result"
    }
   ],
   "source": [
    "def list_operation(a, b, n):\n",
    "    l=[]\n",
    "    [l.append(i) for i in range(a, b) if i%n==0 ]\n",
    "    return (l)\n",
    "    \n",
    "list_operation(1, 10, 3)"
   ]
  },
  {
   "cell_type": "code",
   "execution_count": 2,
   "id": "ca76cfc5",
   "metadata": {},
   "outputs": [
    {
     "name": "stdout",
     "output_type": "stream",
     "text": [
      "True\n",
      "False\n"
     ]
    }
   ],
   "source": [
    "import numpy as np\n",
    "def simon_says(l, l1):\n",
    "    #conversion to array\n",
    "    l.remove(l[0])\n",
    "    l1.remove(l1[0])\n",
    "    n=np.array(l)\n",
    "    n1=np.array(l1)\n",
    "    n2=n-n1\n",
    "    if np.size(n2[n2 > 1]) == 0 and np.size(n2[n2 < 1]) == 0:\n",
    "        return True\n",
    "    else:\n",
    "        return False\n",
    "    \n",
    "    \n",
    "\n",
    "print(simon_says([1, 2], [5, 1]))\n",
    "print(simon_says([1, 2, 3, 4, 5], [5, 5, 1, 2, 3]))"
   ]
  },
  {
   "cell_type": "code",
   "execution_count": 3,
   "id": "c2277f3f",
   "metadata": {},
   "outputs": [
    {
     "data": {
      "text/plain": [
       "'ASM'"
      ]
     },
     "execution_count": 3,
     "metadata": {},
     "output_type": "execute_result"
    }
   ],
   "source": [
    "def society_name(s):\n",
    "    l=[]\n",
    "    [l.append(i[0]) for i in s]\n",
    "    return \"\".join(l)\n",
    "\n",
    "society_name([\"Adam\", \"Sarah\", \"Malcolm\"])"
   ]
  },
  {
   "cell_type": "code",
   "execution_count": 4,
   "id": "07ffb0b5",
   "metadata": {},
   "outputs": [
    {
     "name": "stdout",
     "output_type": "stream",
     "text": [
      "False\n",
      "True\n"
     ]
    }
   ],
   "source": [
    "def is_isogram(s):\n",
    "    s1=s.lower()\n",
    "    if len(set(s1)) == len((s1)):\n",
    "        return True\n",
    "    else:\n",
    "        return False\n",
    "\n",
    "print(is_isogram(\"PasSword\"))\n",
    "print(is_isogram(\"Algorism\"))"
   ]
  },
  {
   "cell_type": "code",
   "execution_count": 5,
   "id": "098d2abf",
   "metadata": {},
   "outputs": [
    {
     "name": "stdout",
     "output_type": "stream",
     "text": [
      "True\n",
      "False\n",
      "True\n"
     ]
    }
   ],
   "source": [
    "def is_in_order(s):\n",
    "    s1=list(s)\n",
    "    s1.sort()\n",
    "    s2=\"\".join(s1)\n",
    "    if s == s2:\n",
    "        return True\n",
    "    else:\n",
    "        return False\n",
    "    \n",
    "\n",
    "print(is_in_order(\"xyzz\"))\n",
    "print(is_in_order(\"edabit\"))\n",
    "print(is_in_order(\"123\"))"
   ]
  }
 ],
 "metadata": {
  "kernelspec": {
   "display_name": "Python 3 (ipykernel)",
   "language": "python",
   "name": "python3"
  },
  "language_info": {
   "codemirror_mode": {
    "name": "ipython",
    "version": 3
   },
   "file_extension": ".py",
   "mimetype": "text/x-python",
   "name": "python",
   "nbconvert_exporter": "python",
   "pygments_lexer": "ipython3",
   "version": "3.9.6"
  }
 },
 "nbformat": 4,
 "nbformat_minor": 5
}
