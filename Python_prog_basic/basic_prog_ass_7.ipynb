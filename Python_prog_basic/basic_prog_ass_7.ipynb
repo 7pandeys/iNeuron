{
 "cells": [
  {
   "cell_type": "code",
   "execution_count": 9,
   "id": "b0f5a6c8",
   "metadata": {},
   "outputs": [
    {
     "name": "stdout",
     "output_type": "stream",
     "text": [
      "array :  [0 1 2 3 4 5 6 7 8 9] \n",
      "Sum of array :  45\n"
     ]
    }
   ],
   "source": [
    "import numpy as n1\n",
    "\n",
    "#sum of array\n",
    "arr = n1.arange(0,10)\n",
    "print(\"array : \", arr, \"\\nSum of array : \", n1.sum(arr))\n"
   ]
  },
  {
   "cell_type": "code",
   "execution_count": 10,
   "id": "cd16adda",
   "metadata": {},
   "outputs": [
    {
     "name": "stdout",
     "output_type": "stream",
     "text": [
      "array :  [0 1 2 3 4 5 6 7 8 9] \n",
      "largest element in array :  9\n"
     ]
    }
   ],
   "source": [
    "#largest element in array\n",
    "print(\"array : \", arr, \"\\nlargest element in array : \", np.amax(arr))"
   ]
  },
  {
   "cell_type": "code",
   "execution_count": 15,
   "id": "fe82dfb4",
   "metadata": {},
   "outputs": [
    {
     "name": "stdout",
     "output_type": "stream",
     "text": [
      "2D array : \n",
      " [[1 2]\n",
      " [3 4]\n",
      " [5 6]]\n",
      "Rotate array one type : \n",
      " [[6 5]\n",
      " [4 3]\n",
      " [2 1]]\n",
      "Rotate array second type : \n",
      " [[5 3 1]\n",
      " [6 4 2]]\n"
     ]
    }
   ],
   "source": [
    "# Rotate array\n",
    "arr1 = np.array([[1,2], [3,4], [5,6]], int)\n",
    "print(\"2D array : \\n\", arr1)\n",
    "print(\"Rotate array one type : \\n\", np.rot90(arr1,2))\n",
    "print(\"Rotate array second type : \\n\", np.rot90(arr1,3))"
   ]
  },
  {
   "cell_type": "code",
   "execution_count": 52,
   "id": "89c8817a",
   "metadata": {},
   "outputs": [
    {
     "name": "stdout",
     "output_type": "stream",
     "text": [
      "array : \n",
      " [[-1.05496831  2.04037224 -0.47725821]\n",
      " [ 0.70219867  0.09713539  0.04799866]\n",
      " [-0.21011762 -1.56276011 -0.42793459]] \n",
      "split array : \n",
      " [array([[-1.05496831,  2.04037224, -0.47725821]]), array([[0.70219867, 0.09713539, 0.04799866]]), array([[-0.21011762, -1.56276011, -0.42793459]])]\n"
     ]
    },
    {
     "data": {
      "text/plain": [
       "array([[ 0.70219867,  0.09713539,  0.04799866],\n",
       "       [-0.21011762, -1.56276011, -0.42793459]])"
      ]
     },
     "execution_count": 52,
     "metadata": {},
     "output_type": "execute_result"
    }
   ],
   "source": [
    "#Split and join array\n",
    "\n",
    "x = n1.random.randn(3, 3)\n",
    "x_split = np.split(x, 3, axis=0)\n",
    "k = 0\n",
    "print(\"array : \\n\", x, \"\\nsplit array : \\n\", x_split)\n",
    "n1.concatenate(x_split[:k] + x_split[k+1:], axis=0)"
   ]
  },
  {
   "cell_type": "code",
   "execution_count": 59,
   "id": "caa3cf4d",
   "metadata": {},
   "outputs": [
    {
     "name": "stdout",
     "output_type": "stream",
     "text": [
      "[[ 1  1]\n",
      " [ 4  2]\n",
      " [-1  3]]\n",
      "Check all difference is greater than 0 :  False\n",
      "array  [[1 2 3]\n",
      " [1 5 7]\n",
      " [4 3 6]] have monotonicity\n"
     ]
    }
   ],
   "source": [
    "#monotonicity in array\n",
    "\n",
    "a = np.asarray([[1,2,3],[1,5,7],[4,3,6]])\n",
    "print(np.diff(a))\n",
    "print(\"Check all difference is greater than 0 : \",  np.all(np.diff(a) > 0) > 0)\n",
    "np.all(a[:, 1:] >= a[:, :-1], axis=1) # check that each element is greater than the element to its left:\n",
    "print( \"array \",a,\"have monotonicity\")"
   ]
  },
  {
   "cell_type": "code",
   "execution_count": null,
   "id": "7fb3e745",
   "metadata": {},
   "outputs": [],
   "source": []
  }
 ],
 "metadata": {
  "kernelspec": {
   "display_name": "Python 3.9.1 64-bit",
   "language": "python",
   "name": "python391jvsc74a57bd0100e3984d5c280f0fb63b059759aa99075e9aafa25a6d0deff42e20732c08080"
  },
  "language_info": {
   "codemirror_mode": {
    "name": "ipython",
    "version": 3
   },
   "file_extension": ".py",
   "mimetype": "text/x-python",
   "name": "python",
   "nbconvert_exporter": "python",
   "pygments_lexer": "ipython3",
   "version": "3.9.1"
  }
 },
 "nbformat": 4,
 "nbformat_minor": 5
}
