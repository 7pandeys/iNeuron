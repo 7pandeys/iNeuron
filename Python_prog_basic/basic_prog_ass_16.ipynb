{
 "cells": [
  {
   "cell_type": "code",
   "execution_count": 10,
   "id": "773cba81",
   "metadata": {},
   "outputs": [
    {
     "name": "stdout",
     "output_type": "stream",
     "text": [
      "Stutter string :  Sa... ndeep?\n"
     ]
    }
   ],
   "source": [
    "def stutter(s):\n",
    "    return s[:2] + \"... \" + s[2:]+ \"?\"\n",
    "\n",
    "\n",
    "s=\"Sandeep\"\n",
    "print(\"Stutter string : \", stutter(s))\n"
   ]
  },
  {
   "cell_type": "code",
   "execution_count": 18,
   "id": "5ff26fbb",
   "metadata": {},
   "outputs": [
    {
     "name": "stdout",
     "output_type": "stream",
     "text": [
      "57.3\n",
      "1145.9\n",
      "2864.8\n"
     ]
    }
   ],
   "source": [
    "def radians_to_degrees(r):\n",
    "    return round((r*57.2958),1)\n",
    "\n",
    "print(radians_to_degrees(1))\n",
    "print(radians_to_degrees(20))\n",
    "print(radians_to_degrees(50))\n"
   ]
  },
  {
   "cell_type": "code",
   "execution_count": 21,
   "id": "64b8e8aa",
   "metadata": {},
   "outputs": [
    {
     "name": "stdout",
     "output_type": "stream",
     "text": [
      "True\n",
      "False\n"
     ]
    }
   ],
   "source": [
    "def curzon(n):\n",
    "    a= 2 ** n + 1\n",
    "    b= 2 * n + 1\n",
    "    if a%b ==0:\n",
    "        return True\n",
    "    else:\n",
    "        return False\n",
    "    \n",
    "print(curzon(5))\n",
    "print(curzon(10))\n",
    "    "
   ]
  },
  {
   "cell_type": "code",
   "execution_count": 25,
   "id": "fdd448ab",
   "metadata": {},
   "outputs": [
    {
     "name": "stdout",
     "output_type": "stream",
     "text": [
      "2.6\n",
      "10.4\n"
     ]
    }
   ],
   "source": [
    "def area_of_hexagon(s):\n",
    "    return round((3*(3 ** (1/2)) * s ** 2)/2,1)\n",
    "\n",
    "print(area_of_hexagon(1))\n",
    "print(area_of_hexagon(2))"
   ]
  },
  {
   "cell_type": "code",
   "execution_count": 19,
   "id": "7eb39f90",
   "metadata": {},
   "outputs": [
    {
     "name": "stdout",
     "output_type": "stream",
     "text": [
      "8\n",
      "4.0\n",
      "['0', '0', '0']\n",
      "0\n"
     ]
    }
   ],
   "source": [
    "def binary(n):\n",
    "    l=[]\n",
    "    cnt=1\n",
    "    while n/2 > 1:\n",
    "        print(n)\n",
    "        l.append(str(int(n%2)))\n",
    "        \n",
    "        n=n/2\n",
    "        cnt = cnt + 1\n",
    "        if cnt == 4:\n",
    "            break\n",
    "    l.append(str(int(n%2)))\n",
    "    print(l)\n",
    "    d= int(\"\".join(l))\n",
    "    return d\n",
    "\n",
    "#print(binary(5))\n",
    "print(binary(8))"
   ]
  },
  {
   "cell_type": "code",
   "execution_count": null,
   "id": "14c72e0c",
   "metadata": {},
   "outputs": [],
   "source": []
  }
 ],
 "metadata": {
  "kernelspec": {
   "display_name": "Python 3.9.1 64-bit",
   "language": "python",
   "name": "python391jvsc74a57bd0100e3984d5c280f0fb63b059759aa99075e9aafa25a6d0deff42e20732c08080"
  },
  "language_info": {
   "codemirror_mode": {
    "name": "ipython",
    "version": 3
   },
   "file_extension": ".py",
   "mimetype": "text/x-python",
   "name": "python",
   "nbconvert_exporter": "python",
   "pygments_lexer": "ipython3",
   "version": "3.9.1"
  }
 },
 "nbformat": 4,
 "nbformat_minor": 5
}
