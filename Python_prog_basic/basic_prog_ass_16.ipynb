{
 "cells": [
  {
   "cell_type": "code",
   "execution_count": 1,
   "id": "773cba81",
   "metadata": {},
   "outputs": [
    {
     "name": "stdout",
     "output_type": "stream",
     "text": [
      "Stutter string :  Sa... ndeep?\n"
     ]
    }
   ],
   "source": [
    "def stutter(s):\n",
    "    return s[:2] + \"... \" + s[2:]+ \"?\"\n",
    "\n",
    "\n",
    "s=\"Sandeep\"\n",
    "print(\"Stutter string : \", stutter(s))\n"
   ]
  },
  {
   "cell_type": "code",
   "execution_count": 2,
   "id": "5ff26fbb",
   "metadata": {},
   "outputs": [
    {
     "name": "stdout",
     "output_type": "stream",
     "text": [
      "57.3\n",
      "1145.9\n",
      "2864.8\n"
     ]
    }
   ],
   "source": [
    "def radians_to_degrees(r):\n",
    "    return round((r*57.2958),1)\n",
    "\n",
    "print(radians_to_degrees(1))\n",
    "print(radians_to_degrees(20))\n",
    "print(radians_to_degrees(50))\n"
   ]
  },
  {
   "cell_type": "code",
   "execution_count": 3,
   "id": "64b8e8aa",
   "metadata": {},
   "outputs": [
    {
     "name": "stdout",
     "output_type": "stream",
     "text": [
      "True\n",
      "False\n"
     ]
    }
   ],
   "source": [
    "def curzon(n):\n",
    "    a= 2 ** n + 1\n",
    "    b= 2 * n + 1\n",
    "    if a%b ==0:\n",
    "        return True\n",
    "    else:\n",
    "        return False\n",
    "    \n",
    "print(curzon(5))\n",
    "print(curzon(10))\n",
    "    "
   ]
  },
  {
   "cell_type": "code",
   "execution_count": 4,
   "id": "fdd448ab",
   "metadata": {},
   "outputs": [
    {
     "name": "stdout",
     "output_type": "stream",
     "text": [
      "2.6\n",
      "10.4\n"
     ]
    }
   ],
   "source": [
    "def area_of_hexagon(s):\n",
    "    return round((3*(3 ** (1/2)) * s ** 2)/2,1)\n",
    "\n",
    "print(area_of_hexagon(1))\n",
    "print(area_of_hexagon(2))"
   ]
  },
  {
   "cell_type": "code",
   "execution_count": 10,
   "id": "7eb39f90",
   "metadata": {},
   "outputs": [
    {
     "data": {
      "text/plain": [
       "'101'"
      ]
     },
     "execution_count": 10,
     "metadata": {},
     "output_type": "execute_result"
    }
   ],
   "source": [
    "def binary(n):\n",
    "    return bin(n)[2:]\n",
    "\n",
    "binary(5)\n"
   ]
  }
 ],
 "metadata": {
  "kernelspec": {
   "display_name": "Python 3.9.1 64-bit",
   "language": "python",
   "name": "python391jvsc74a57bd0100e3984d5c280f0fb63b059759aa99075e9aafa25a6d0deff42e20732c08080"
  },
  "language_info": {
   "codemirror_mode": {
    "name": "ipython",
    "version": 3
   },
   "file_extension": ".py",
   "mimetype": "text/x-python",
   "name": "python",
   "nbconvert_exporter": "python",
   "pygments_lexer": "ipython3",
   "version": "3.9.1"
  }
 },
 "nbformat": 4,
 "nbformat_minor": 5
}
