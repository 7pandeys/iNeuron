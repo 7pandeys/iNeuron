{
 "cells": [
  {
   "cell_type": "code",
   "execution_count": 20,
   "metadata": {},
   "outputs": [
    {
     "name": "stdout",
     "output_type": "stream",
     "text": [
      "Task 1 : 30\n"
     ]
    }
   ],
   "source": [
    "def evenly_divisible(a, b, c):\n",
    "    sum =0\n",
    "    if c > b:\n",
    "        return \"No number between \" + str(a) + \" and \" +str(b) + \" can be evenly divided by \" + str(c)\n",
    "    else:\n",
    "        for i in range(a,b+1):\n",
    "            if i % c == 0:\n",
    "                #print(i)\n",
    "                sum= sum+i\n",
    "        return sum\n",
    "    \n",
    "\n",
    "\n",
    "print(\"Task 1 :\",evenly_divisible(1, 10, 2))\n",
    "    \n",
    "    "
   ]
  },
  {
   "cell_type": "code",
   "execution_count": 21,
   "metadata": {},
   "outputs": [
    {
     "name": "stdout",
     "output_type": "stream",
     "text": [
      "Task 2 : True\n"
     ]
    }
   ],
   "source": [
    "def correct_signs(eq):\n",
    "    return eval(eq)\n",
    "\n",
    "print(\"Task 2 :\",correct_signs(\"3 < 7 < 11\"))"
   ]
  },
  {
   "cell_type": "code",
   "execution_count": 35,
   "metadata": {},
   "outputs": [
    {
     "name": "stdout",
     "output_type": "stream",
     "text": [
      "Task 3 : th# ##rdv#rk\n"
     ]
    }
   ],
   "source": [
    "def replace_vowels(s, S):\n",
    "    v= \"AEIOUaeiou\"\n",
    "    for i in v:\n",
    "        s= s.replace(i, S)\n",
    "    return s\n",
    "\n",
    "print(\"Task 3 :\",replace_vowels(\"the aardvark\", \"#\"))"
   ]
  },
  {
   "cell_type": "code",
   "execution_count": 36,
   "metadata": {},
   "outputs": [
    {
     "name": "stdout",
     "output_type": "stream",
     "text": [
      "Task 4 : 120\n"
     ]
    }
   ],
   "source": [
    "def factorial(n):\n",
    "   if n == 1 or n == 0 :\n",
    "       return n\n",
    "   else:\n",
    "       return n*factorial(n-1)\n",
    "\n",
    "print(\"Task 4 :\",factorial(5))"
   ]
  },
  {
   "cell_type": "code",
   "execution_count": 4,
   "metadata": {},
   "outputs": [
    {
     "data": {
      "text/plain": [
       "5"
      ]
     },
     "execution_count": 4,
     "metadata": {},
     "output_type": "execute_result"
    }
   ],
   "source": [
    "def hamming_distance(a, b):\n",
    "    cnt = 0\n",
    "    for i in range(len(a)):\n",
    "        if a[i]!=b[i]:\n",
    "            cnt = cnt + 1\n",
    "    return cnt\n",
    "        \n",
    "\n",
    "hamming_distance(\"abcde\", \"bcdef\")"
   ]
  },
  {
   "cell_type": "code",
   "execution_count": null,
   "metadata": {},
   "outputs": [],
   "source": []
  }
 ],
 "metadata": {
  "kernelspec": {
   "display_name": "Python 3",
   "language": "python",
   "name": "python3"
  },
  "language_info": {
   "codemirror_mode": {
    "name": "ipython",
    "version": 3
   },
   "file_extension": ".py",
   "mimetype": "text/x-python",
   "name": "python",
   "nbconvert_exporter": "python",
   "pygments_lexer": "ipython3",
   "version": "3.6.13"
  }
 },
 "nbformat": 4,
 "nbformat_minor": 2
}
