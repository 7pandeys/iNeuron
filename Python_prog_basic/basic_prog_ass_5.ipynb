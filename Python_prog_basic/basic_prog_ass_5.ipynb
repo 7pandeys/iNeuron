{
 "cells": [
  {
   "cell_type": "code",
   "execution_count": 20,
   "id": "ffffffb5",
   "metadata": {},
   "outputs": [
    {
     "name": "stdout",
     "output_type": "stream",
     "text": [
      "Enter first number23\n",
      "Enter second number20\n",
      "add :  43\n",
      "sub :  3\n",
      "mult :  460\n",
      "div :  1.15\n"
     ]
    },
    {
     "data": {
      "text/plain": [
       "1"
      ]
     },
     "execution_count": 20,
     "metadata": {},
     "output_type": "execute_result"
    }
   ],
   "source": [
    "def arith():\n",
    "    m= int(input(\"Enter first number\"))\n",
    "    n= int(input(\"Enter second number\"))\n",
    "    print(\"add : \", m + n)\n",
    "    print(\"sub : \", m - n)\n",
    "    print(\"mult : \", m * n)\n",
    "    print(\"div : \", m / n)\n",
    "    return 1\n",
    "\n",
    "arith()\n",
    "    "
   ]
  },
  {
   "cell_type": "code",
   "execution_count": 22,
   "id": "5d2c6414",
   "metadata": {},
   "outputs": [
    {
     "name": "stdout",
     "output_type": "stream",
     "text": [
      "65\n"
     ]
    }
   ],
   "source": [
    "def ascii_c(m):\n",
    "    print(ord(m))\n",
    "    \n",
    "ascii_c('A')"
   ]
  },
  {
   "cell_type": "code",
   "execution_count": 24,
   "id": "b5353a9c",
   "metadata": {},
   "outputs": [
    {
     "name": "stdout",
     "output_type": "stream",
     "text": [
      "binary :  0b1100\n",
      "octal :  0o14\n",
      "hexadecimal :  0xc\n"
     ]
    }
   ],
   "source": [
    "def decimal_bin_o_h(n):\n",
    "    print(\"binary : \", bin(n))\n",
    "    print(\"octal : \", oct(n))\n",
    "    print(\"hexadecimal : \", hex(n))\n",
    "    \n",
    "decimal_bin_o_h(12)"
   ]
  },
  {
   "cell_type": "code",
   "execution_count": 26,
   "id": "671caa90",
   "metadata": {},
   "outputs": [
    {
     "data": {
      "text/plain": [
       "4"
      ]
     },
     "execution_count": 26,
     "metadata": {},
     "output_type": "execute_result"
    }
   ],
   "source": [
    "def hcf(x, y):\n",
    "    if x > y:\n",
    "        smaller = y\n",
    "    else:\n",
    "        smaller = x\n",
    "    for i in range(1, smaller+1):\n",
    "        if((x % i == 0) and (y % i == 0)):\n",
    "            \n",
    "            h = i \n",
    "    return h\n",
    "\n",
    "hcf(12,20)"
   ]
  },
  {
   "cell_type": "code",
   "execution_count": 27,
   "id": "8a68451e",
   "metadata": {},
   "outputs": [
    {
     "data": {
      "text/plain": [
       "60"
      ]
     },
     "execution_count": 27,
     "metadata": {},
     "output_type": "execute_result"
    }
   ],
   "source": [
    "def lcm(x, y):\n",
    "\n",
    "   if x > y:\n",
    "       greater = x\n",
    "   else:\n",
    "       greater = y\n",
    "\n",
    "   while(True):\n",
    "       if((greater % x == 0) and (greater % y == 0)):\n",
    "           l = greater\n",
    "           break\n",
    "       greater += 1\n",
    "\n",
    "   return l\n",
    "\n",
    "lcm(12,20)"
   ]
  },
  {
   "cell_type": "code",
   "execution_count": null,
   "id": "a719c282",
   "metadata": {},
   "outputs": [],
   "source": []
  }
 ],
 "metadata": {
  "kernelspec": {
   "display_name": "Python 3.9.1 64-bit",
   "language": "python",
   "name": "python391jvsc74a57bd0100e3984d5c280f0fb63b059759aa99075e9aafa25a6d0deff42e20732c08080"
  },
  "language_info": {
   "codemirror_mode": {
    "name": "ipython",
    "version": 3
   },
   "file_extension": ".py",
   "mimetype": "text/x-python",
   "name": "python",
   "nbconvert_exporter": "python",
   "pygments_lexer": "ipython3",
   "version": "3.9.1"
  }
 },
 "nbformat": 4,
 "nbformat_minor": 5
}
