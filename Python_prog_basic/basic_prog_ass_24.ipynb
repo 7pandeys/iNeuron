{
 "cells": [
  {
   "cell_type": "code",
   "execution_count": 7,
   "id": "02607405",
   "metadata": {},
   "outputs": [
    {
     "data": {
      "text/plain": [
       "[0,\n",
       " 1,\n",
       " 2,\n",
       " 3,\n",
       " 40,\n",
       " 5,\n",
       " 6,\n",
       " 7,\n",
       " 80,\n",
       " 9,\n",
       " 10,\n",
       " 11,\n",
       " 120,\n",
       " 13,\n",
       " 14,\n",
       " 15,\n",
       " 160,\n",
       " 17,\n",
       " 18,\n",
       " 19,\n",
       " 200,\n",
       " 21,\n",
       " 22,\n",
       " 23,\n",
       " 240,\n",
       " 25]"
      ]
     },
     "execution_count": 7,
     "metadata": {},
     "output_type": "execute_result"
    }
   ],
   "source": [
    "def amplify(n):\n",
    "    l=[]\n",
    "    [l.append(i) if i%4!=0 else l.append(i*10) for i in range(n+1)]\n",
    "    return l\n",
    "\n",
    "amplify(25)"
   ]
  },
  {
   "cell_type": "code",
   "execution_count": 16,
   "id": "9b67eb81",
   "metadata": {},
   "outputs": [
    {
     "data": {
      "text/plain": [
       "[7]"
      ]
     },
     "execution_count": 16,
     "metadata": {},
     "output_type": "execute_result"
    }
   ],
   "source": [
    "def unique(l):\n",
    "    res=l\n",
    "    for i in l:\n",
    "        l.remove(i)\n",
    "        if i in l:\n",
    "            res = list(filter((i).__ne__, res))\n",
    "        \n",
    "    return res\n",
    "    \n",
    "\n",
    "unique([3, 3, 3, 7, 3, 3,2,2])"
   ]
  },
  {
   "cell_type": "code",
   "execution_count": 19,
   "id": "2eda712e",
   "metadata": {},
   "outputs": [
    {
     "name": "stdout",
     "output_type": "stream",
     "text": [
      "380.132711084365\n"
     ]
    },
    {
     "data": {
      "text/plain": [
       "27.897342763877365"
      ]
     },
     "execution_count": 19,
     "metadata": {},
     "output_type": "execute_result"
    }
   ],
   "source": [
    "from math import pi\n",
    "class Circle():\n",
    "    def __init__(self, r):\n",
    "        self.r = r\n",
    "    \n",
    "    def getArea(self):\n",
    "        return pi*self.r**2\n",
    "    \n",
    "    def getPerimeter(self):\n",
    "        return 2*pi*self.r\n",
    "    \n",
    "    \n",
    "    \n",
    "circy = Circle(11)\n",
    "print(circy.getArea())\n",
    "\n",
    "# Should return 380.132711084365\n",
    "\n",
    "circy = Circle(4.44)\n",
    "circy.getPerimeter()\n",
    "\n",
    "# Should return 27.897342763877365"
   ]
  },
  {
   "cell_type": "code",
   "execution_count": 27,
   "id": "62208edd",
   "metadata": {},
   "outputs": [
    {
     "data": {
      "text/plain": [
       "['Apple', 'Google', 'Microsoft']"
      ]
     },
     "execution_count": 27,
     "metadata": {},
     "output_type": "execute_result"
    }
   ],
   "source": [
    "def sort_by_length(l):\n",
    "    l.sort(key = len)\n",
    "    return l\n",
    "    \n",
    "\n",
    "sort_by_length([\"Google\", \"Apple\", \"Microsoft\"])"
   ]
  },
  {
   "cell_type": "code",
   "execution_count": 33,
   "id": "3838074e",
   "metadata": {},
   "outputs": [
    {
     "data": {
      "text/plain": [
       "True"
      ]
     },
     "execution_count": 33,
     "metadata": {},
     "output_type": "execute_result"
    }
   ],
   "source": [
    "from functools import reduce\n",
    "def is_triplet(a, b, c):\n",
    "    l=[a,b,c]\n",
    "    m=reduce(lambda a, b: a if a > b else b, l)\n",
    "    l.remove(m)\n",
    "    if l[0]**2 + l[1]**2 == m**2:\n",
    "        return True\n",
    "    else:\n",
    "        return False\n",
    "    \n",
    "\n",
    "is_triplet(3, 4, 5)"
   ]
  },
  {
   "cell_type": "code",
   "execution_count": null,
   "id": "02b221d4",
   "metadata": {},
   "outputs": [],
   "source": []
  }
 ],
 "metadata": {
  "kernelspec": {
   "display_name": "Python 3 (ipykernel)",
   "language": "python",
   "name": "python3"
  },
  "language_info": {
   "codemirror_mode": {
    "name": "ipython",
    "version": 3
   },
   "file_extension": ".py",
   "mimetype": "text/x-python",
   "name": "python",
   "nbconvert_exporter": "python",
   "pygments_lexer": "ipython3",
   "version": "3.9.6"
  }
 },
 "nbformat": 4,
 "nbformat_minor": 5
}
