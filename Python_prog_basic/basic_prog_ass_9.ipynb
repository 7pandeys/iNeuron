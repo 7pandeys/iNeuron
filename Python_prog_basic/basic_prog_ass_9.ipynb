{
 "cells": [
  {
   "cell_type": "code",
   "execution_count": 1,
   "id": "c2810250",
   "metadata": {},
   "outputs": [
    {
     "name": "stdout",
     "output_type": "stream",
     "text": [
      "175 is a disarium number\n",
      "176 is not a disarium number\n"
     ]
    }
   ],
   "source": [
    "def disarium(n):\n",
    "    s=(str(n))\n",
    "    t =0\n",
    "    for i in range(0,len(s)):\n",
    "        t=t+ int(s[i]) ** (i+1)\n",
    "    if t==n:\n",
    "        #print(n, \"is a disarium\")\n",
    "        return True \n",
    "    else:\n",
    "        #print(n, \"is a not disarium\")\n",
    "        return False\n",
    "        \n",
    "def print_disarium(n):\n",
    "    if disarium(n) == True:\n",
    "        print(n, \"is a disarium number\")\n",
    "    else:\n",
    "        print(n, \"is not a disarium number\")\n",
    "\n",
    "print_disarium(175)\n",
    "print_disarium(176)"
   ]
  },
  {
   "cell_type": "code",
   "execution_count": 2,
   "id": "039657de",
   "metadata": {},
   "outputs": [
    {
     "name": "stdout",
     "output_type": "stream",
     "text": [
      "Disarium number between 1 and 100 : [1, 2, 3, 4, 5, 6, 7, 8, 9, 89]\n"
     ]
    }
   ],
   "source": [
    "a=filter(disarium,list(range(1,100)))\n",
    "print(\"Disarium number between 1 and 100 :\", list(a))"
   ]
  },
  {
   "cell_type": "code",
   "execution_count": 3,
   "id": "dd540043",
   "metadata": {},
   "outputs": [
    {
     "data": {
      "text/plain": [
       "True"
      ]
     },
     "execution_count": 3,
     "metadata": {},
     "output_type": "execute_result"
    }
   ],
   "source": [
    "def happy(n):\n",
    "    s=str(n)\n",
    "    m=len(s)\n",
    "    t=n\n",
    "    l=[]\n",
    "    if t < 10:\n",
    "        t= t**2\n",
    "    while t>9:\n",
    "        t=0\n",
    "        s=str(n)\n",
    "        for i in range(len(s)):\n",
    "            t=t+int(s[i])**2\n",
    "        n=t\n",
    "    if(t==1):\n",
    "        return True\n",
    "    else:\n",
    "        #print(t)\n",
    "        return False\n",
    "happy(7)"
   ]
  },
  {
   "cell_type": "code",
   "execution_count": 4,
   "id": "37bf6bab",
   "metadata": {},
   "outputs": [
    {
     "name": "stdout",
     "output_type": "stream",
     "text": [
      "happy number between 1 and 100 : [1, 7, 10, 13, 19, 23, 28, 31, 32, 44, 49, 68, 70, 79, 82, 86, 91, 94, 97, 100]\n"
     ]
    }
   ],
   "source": [
    "a=filter(happy,list(range(1,101)))\n",
    "print(\"happy number between 1 and 100 :\", list(a))"
   ]
  },
  {
   "cell_type": "code",
   "execution_count": 5,
   "id": "ffcdb1f5",
   "metadata": {},
   "outputs": [
    {
     "name": "stdout",
     "output_type": "stream",
     "text": [
      "18  is a harshad number \n",
      "19  is not a harshad number \n"
     ]
    }
   ],
   "source": [
    "def harshad(n):\n",
    "    s=str(n)\n",
    "    t=0\n",
    "    for i in range(len(s)):\n",
    "        t=t+int(s[i])\n",
    "    if n%t == 0:\n",
    "        print(n, \" is a harshad number \")\n",
    "    else:\n",
    "        print(n, \" is not a harshad number \")\n",
    "harshad(18)\n",
    "harshad(19)"
   ]
  },
  {
   "cell_type": "code",
   "execution_count": 6,
   "id": "8da24cc5",
   "metadata": {},
   "outputs": [
    {
     "data": {
      "text/plain": [
       "True"
      ]
     },
     "execution_count": 6,
     "metadata": {},
     "output_type": "execute_result"
    }
   ],
   "source": [
    "def pronic(n):\n",
    "    for i in range(1,n):\n",
    "        if i*(i+1) == n:\n",
    "            return True\n",
    "            break\n",
    "    else:\n",
    "        return False\n",
    "pronic(12)"
   ]
  },
  {
   "cell_type": "code",
   "execution_count": 7,
   "id": "6c343d6e",
   "metadata": {},
   "outputs": [
    {
     "name": "stdout",
     "output_type": "stream",
     "text": [
      "pronic number between 1 and 100 : [2, 6, 12, 20, 30, 42, 56, 72, 90]\n"
     ]
    }
   ],
   "source": [
    "a=filter(pronic,list(range(1,101)))\n",
    "print(\"pronic number between 1 and 100 :\", list(a))"
   ]
  },
  {
   "cell_type": "code",
   "execution_count": null,
   "id": "f05e95c4",
   "metadata": {},
   "outputs": [],
   "source": []
  }
 ],
 "metadata": {
  "kernelspec": {
   "display_name": "Python 3.9.1 64-bit",
   "language": "python",
   "name": "python391jvsc74a57bd0100e3984d5c280f0fb63b059759aa99075e9aafa25a6d0deff42e20732c08080"
  },
  "language_info": {
   "codemirror_mode": {
    "name": "ipython",
    "version": 3
   },
   "file_extension": ".py",
   "mimetype": "text/x-python",
   "name": "python",
   "nbconvert_exporter": "python",
   "pygments_lexer": "ipython3",
   "version": "3.9.1"
  }
 },
 "nbformat": 4,
 "nbformat_minor": 5
}
