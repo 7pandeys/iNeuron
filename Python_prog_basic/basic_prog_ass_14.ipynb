{
 "cells": [
  {
   "cell_type": "code",
   "execution_count": 30,
   "id": "7bae7c49",
   "metadata": {},
   "outputs": [
    {
     "name": "stdout",
     "output_type": "stream",
     "text": [
      "This class is to create function\n",
      "Divisible by 7 numbers :  [[7, 14]]\n",
      "Counter :  {'New': 1, 'and': 1, 'or': 2, '3?': 1, '3': 1, 'Read': 1, 'to': 1, 'Python': 5, 'between': 1, 'choosing': 1, '2': 2}\n"
     ]
    }
   ],
   "source": [
    "from collections import Counter\n",
    "class mathh:\n",
    "    def __init__(self):\n",
    "        pass\n",
    "    def __str__(self):\n",
    "        return \"This class is to create function\"\n",
    "    def div7(self, i,n):\n",
    "        l=[]\n",
    "        \"\"\"using while loop\"\"\"\n",
    "        while i < n:\n",
    "            if i % 7 == 0:\n",
    "                l.append(i)\n",
    "            i=i+1\n",
    "        yield l\n",
    "    def cnt(self, inp):\n",
    "        l= inp.split()\n",
    "        s = set(inp)\n",
    "        d = {}\n",
    "        for i in set(l):\n",
    "            d[i] = l.count(i)\n",
    "            \n",
    "        return d #Counter(input)\n",
    "        \n",
    "        \n",
    "\n",
    "        \n",
    "num = mathh()\n",
    "print(num)\n",
    "print(\"Divisible by 7 numbers : \",list(num.div7(2,15)))\n",
    "print(\"Counter : \", num.cnt(\"New to Python or choosing between Python 2 and Python 3? Read Python 2 or Python 3\"))\n",
    "\n"
   ]
  },
  {
   "cell_type": "code",
   "execution_count": 40,
   "id": "e96566d3",
   "metadata": {},
   "outputs": [
    {
     "name": "stdout",
     "output_type": "stream",
     "text": [
      "Male\n",
      "Female\n"
     ]
    }
   ],
   "source": [
    "class Person:\n",
    "    def __init__(self):\n",
    "        pass\n",
    "    \n",
    "    def getgender(self):\n",
    "        pass\n",
    "    \n",
    "class Male(Person):\n",
    "    def __init__(self):\n",
    "        pass\n",
    "    def getgender(self):\n",
    "        return \"Male\"\n",
    "\n",
    "class Female(Person):\n",
    "    def __init__(self):\n",
    "        pass\n",
    "    def getgender(self):\n",
    "        return \"Female\"\n",
    "\n",
    "p = Person()\n",
    "m=Male()\n",
    "print(m.getgender())\n",
    "f=Female()\n",
    "print(f.getgender())\n"
   ]
  },
  {
   "cell_type": "code",
   "execution_count": 25,
   "id": "433683bc",
   "metadata": {},
   "outputs": [
    {
     "data": {
      "text/plain": [
       "1"
      ]
     },
     "execution_count": 25,
     "metadata": {},
     "output_type": "execute_result"
    }
   ],
   "source": [
    "\"ok this \".count(\"ok\")"
   ]
  },
  {
   "cell_type": "code",
   "execution_count": null,
   "id": "fdabe031",
   "metadata": {},
   "outputs": [],
   "source": []
  }
 ],
 "metadata": {
  "kernelspec": {
   "display_name": "Python 3.9.1 64-bit",
   "language": "python",
   "name": "python391jvsc74a57bd0100e3984d5c280f0fb63b059759aa99075e9aafa25a6d0deff42e20732c08080"
  },
  "language_info": {
   "codemirror_mode": {
    "name": "ipython",
    "version": 3
   },
   "file_extension": ".py",
   "mimetype": "text/x-python",
   "name": "python",
   "nbconvert_exporter": "python",
   "pygments_lexer": "ipython3",
   "version": "3.9.1"
  }
 },
 "nbformat": 4,
 "nbformat_minor": 5
}
