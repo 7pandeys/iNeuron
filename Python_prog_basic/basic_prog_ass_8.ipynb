{
 "cells": [
  {
   "cell_type": "code",
   "execution_count": 1,
   "id": "e143ef1d",
   "metadata": {},
   "outputs": [
    {
     "name": "stdout",
     "output_type": "stream",
     "text": [
      "M1 matrix : \n",
      " [[1 2]\n",
      " [3 4]]\n",
      "M2 matrix : \n",
      " [[1 2]\n",
      " [3 4]]\n",
      "Sum of matrix : \n",
      " [[2 4]\n",
      " [6 8]]\n",
      "Multiplication of matrix : \n",
      " [[ 1  4]\n",
      " [ 9 16]]\n",
      "Transpose of matrix : \n",
      " [[1 3]\n",
      " [2 4]]\n"
     ]
    }
   ],
   "source": [
    "import numpy as np\n",
    "\n",
    "m1 = np.array([[1, 2], [3, 4]])\n",
    "\n",
    "m2 = np.array([[1, 2], [3, 4]])\n",
    "\n",
    "print(\"M1 matrix : \\n\",m1)\n",
    "\n",
    "print(\"M2 matrix : \\n\",m2)\n",
    "\n",
    "print(\"Sum of matrix : \\n\",m1 + m2)\n",
    "\n",
    "print(\"Multiplication of matrix : \\n\",m1 * m2)\n",
    "\n",
    "print(\"Transpose of matrix : \\n\",m1.transpose())"
   ]
  },
  {
   "cell_type": "code",
   "execution_count": 2,
   "id": "a169568f",
   "metadata": {},
   "outputs": [
    {
     "name": "stdout",
     "output_type": "stream",
     "text": [
      "Enter a sentence. Today, is my best day.\n",
      "Sort in alphabetical order :  ['best', 'day.', 'is', 'my', 'today,']\n"
     ]
    }
   ],
   "source": [
    "#Sort Order\n",
    "\n",
    "my_str = input(\"Enter a sentence. \")\n",
    "words = [word.lower() for word in my_str.split()]\n",
    "#l=my_str.split()\n",
    "words.sort()\n",
    "print(\"Sort in alphabetical order : \",words)"
   ]
  },
  {
   "cell_type": "code",
   "execution_count": 3,
   "id": "452a1347",
   "metadata": {},
   "outputs": [
    {
     "name": "stdout",
     "output_type": "stream",
     "text": [
      "Enter a string: Please, let us enjoy today!\n",
      "Please let us enjoy today\n"
     ]
    }
   ],
   "source": [
    "punc = '''!()-[]{};:'\"\\,<>./?@#$%^&*_~'''\n",
    "\n",
    "my_str = input(\"Enter a string: \")\n",
    "no_punc = \"\"\n",
    "for char in my_str:\n",
    "   if char not in punc:\n",
    "       no_punc = no_punc + char\n",
    "\n",
    "print(no_punc)"
   ]
  },
  {
   "cell_type": "code",
   "execution_count": null,
   "id": "7c0cc768",
   "metadata": {},
   "outputs": [],
   "source": []
  }
 ],
 "metadata": {
  "kernelspec": {
   "display_name": "Python 3.9.1 64-bit",
   "language": "python",
   "name": "python391jvsc74a57bd0100e3984d5c280f0fb63b059759aa99075e9aafa25a6d0deff42e20732c08080"
  },
  "language_info": {
   "codemirror_mode": {
    "name": "ipython",
    "version": 3
   },
   "file_extension": ".py",
   "mimetype": "text/x-python",
   "name": "python",
   "nbconvert_exporter": "python",
   "pygments_lexer": "ipython3",
   "version": "3.9.1"
  }
 },
 "nbformat": 4,
 "nbformat_minor": 5
}
