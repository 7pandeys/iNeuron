{
 "cells": [
  {
   "cell_type": "code",
   "execution_count": 15,
   "id": "a11ccaa3",
   "metadata": {},
   "outputs": [
    {
     "name": "stdout",
     "output_type": "stream",
     "text": [
      "True\n",
      "True\n",
      "False\n"
     ]
    }
   ],
   "source": [
    "def is_symmetrical(n):\n",
    "    s=str(n)\n",
    "    if s == s[::-1]:\n",
    "        return True\n",
    "    else:\n",
    "        return False\n",
    "    \n",
    "\n",
    "print(is_symmetrical(1112111))\n",
    "print(is_symmetrical(7227))\n",
    "print(is_symmetrical(12567))"
   ]
  },
  {
   "cell_type": "code",
   "execution_count": 49,
   "id": "6669e624",
   "metadata": {},
   "outputs": [
    {
     "data": {
      "text/plain": [
       "24"
      ]
     },
     "execution_count": 49,
     "metadata": {},
     "output_type": "execute_result"
    }
   ],
   "source": [
    "def multiply_nums(s):\n",
    "    mul = 1\n",
    "    l=s.split(\",\")\n",
    "    i=len(l)-1\n",
    "    while i!=-1:\n",
    "        mul=mul*int(l[i])\n",
    "        i=i-1\n",
    "\n",
    "    return mul\n",
    "\n",
    "multiply_nums(\"1, 2, 3, 4\")"
   ]
  },
  {
   "cell_type": "code",
   "execution_count": 44,
   "id": "9527b29e",
   "metadata": {},
   "outputs": [
    {
     "data": {
      "text/plain": [
       "416649"
      ]
     },
     "execution_count": 44,
     "metadata": {},
     "output_type": "execute_result"
    }
   ],
   "source": [
    "def square_digits(n):\n",
    "    l=list(str(n))\n",
    "    l1=[]\n",
    "    [l1.append(str(int(i)**2)) for i in l]\n",
    "    return int(\"\".join(l1))\n",
    "\n",
    "square_digits(2483)"
   ]
  },
  {
   "cell_type": "code",
   "execution_count": 45,
   "id": "84442891",
   "metadata": {},
   "outputs": [
    {
     "data": {
      "text/plain": [
       "[1, 3, 5]"
      ]
     },
     "execution_count": 45,
     "metadata": {},
     "output_type": "execute_result"
    }
   ],
   "source": [
    "def setify(l):\n",
    "    return list(set(l))\n",
    "\n",
    "setify([1, 3, 3, 5, 5])"
   ]
  },
  {
   "cell_type": "code",
   "execution_count": 54,
   "id": "4de69cf2",
   "metadata": {},
   "outputs": [
    {
     "name": "stdout",
     "output_type": "stream",
     "text": [
      "['4', '2']\n"
     ]
    },
    {
     "data": {
      "text/plain": [
       "3"
      ]
     },
     "execution_count": 54,
     "metadata": {},
     "output_type": "execute_result"
    }
   ],
   "source": [
    "from functools import reduce\n",
    "def mean(n):\n",
    "    l=list(str(n))\n",
    "    s=round(reduce(lambda a, b: int(a)+int(b), l)/len(l))\n",
    "    return s\n",
    "\n",
    "mean(42)"
   ]
  }
 ],
 "metadata": {
  "kernelspec": {
   "display_name": "Python 3 (ipykernel)",
   "language": "python",
   "name": "python3"
  },
  "language_info": {
   "codemirror_mode": {
    "name": "ipython",
    "version": 3
   },
   "file_extension": ".py",
   "mimetype": "text/x-python",
   "name": "python",
   "nbconvert_exporter": "python",
   "pygments_lexer": "ipython3",
   "version": "3.9.6"
  }
 },
 "nbformat": 4,
 "nbformat_minor": 5
}
