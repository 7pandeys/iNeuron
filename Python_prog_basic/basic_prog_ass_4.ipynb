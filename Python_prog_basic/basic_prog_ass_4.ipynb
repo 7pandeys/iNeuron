{
 "cells": [
  {
   "cell_type": "code",
   "execution_count": 16,
   "id": "f03e10cf",
   "metadata": {},
   "outputs": [
    {
     "data": {
      "text/plain": [
       "120"
      ]
     },
     "execution_count": 16,
     "metadata": {},
     "output_type": "execute_result"
    }
   ],
   "source": [
    "def fact(a):\n",
    "    f = 1\n",
    "    for i in range(1,a+1):\n",
    "        f=f*i\n",
    "    return f\n",
    "        \n",
    "fact(5)"
   ]
  },
  {
   "cell_type": "code",
   "execution_count": 17,
   "id": "87bd14d8",
   "metadata": {},
   "outputs": [
    {
     "name": "stdout",
     "output_type": "stream",
     "text": [
      "6  x  1  =  6\n",
      "6  x  2  =  12\n",
      "6  x  3  =  18\n",
      "6  x  4  =  24\n",
      "6  x  5  =  30\n",
      "6  x  6  =  36\n",
      "6  x  7  =  42\n",
      "6  x  8  =  48\n",
      "6  x  9  =  54\n",
      "6  x  10  =  60\n"
     ]
    }
   ],
   "source": [
    "def mult_t(a):\n",
    "    for i in range(1,11):\n",
    "        print(a, \" x \",i,\" = \",a*i  )\n",
    "        \n",
    "mult_t(6)"
   ]
  },
  {
   "cell_type": "code",
   "execution_count": 28,
   "id": "0c379a44",
   "metadata": {},
   "outputs": [
    {
     "name": "stdout",
     "output_type": "stream",
     "text": [
      "1\n",
      "1\n",
      "2\n",
      "3\n",
      "5\n"
     ]
    }
   ],
   "source": [
    "def fib(c):\n",
    "    a=1\n",
    "    b=1\n",
    "    d=0\n",
    "    print(a)\n",
    "    print(b)\n",
    "    for i in range(1, c-1):\n",
    "        d=a+b\n",
    "        b=a\n",
    "        a=d\n",
    "        print(a)\n",
    "\n",
    "fib(5)"
   ]
  },
  {
   "cell_type": "code",
   "execution_count": 12,
   "id": "2f6904c9",
   "metadata": {},
   "outputs": [
    {
     "name": "stdout",
     "output_type": "stream",
     "text": [
      "check the number lenght\n"
     ]
    }
   ],
   "source": [
    "def arm(n):\n",
    "    b= str(n)\n",
    "    if(len(b) == 3):\n",
    "        a = int(b[0])**3 + int(b[1])**3 + int(b[2])**3\n",
    "        if a==n:\n",
    "            print(\"It is armstrong no\")\n",
    "        else:\n",
    "            print(\"it is not armstorng no\")\n",
    "    else:\n",
    "        print(\"check the number lenght\")\n",
    "\n",
    "arm(3200)\n",
    "    "
   ]
  },
  {
   "cell_type": "code",
   "execution_count": 16,
   "id": "3fae2616",
   "metadata": {},
   "outputs": [
    {
     "data": {
      "text/plain": [
       "[370, 371]"
      ]
     },
     "execution_count": 16,
     "metadata": {},
     "output_type": "execute_result"
    }
   ],
   "source": [
    "def arm_in(m,n):\n",
    "    b1= str(n)\n",
    "    c= str(m)\n",
    "    l=[]\n",
    "    if(len(b1) == 3 and  len(c) == 3):\n",
    "        for i in range(m,n+1):\n",
    "            b=str(i)\n",
    "            a = int(b[0])**3 + int(b[1])**3 + int(b[2])**3\n",
    "            if a==i:\n",
    "                l.append(a)\n",
    "                #print(\"It is armstrong no\")\n",
    "            #else:\n",
    "                \n",
    "                #print(\"it is not armstorng no\")\n",
    "    else:\n",
    "        print(\"check the number lenght\")\n",
    "    return l\n",
    "\n",
    "arm_in(350,400)\n",
    "    "
   ]
  },
  {
   "cell_type": "code",
   "execution_count": 18,
   "id": "abb1141f",
   "metadata": {},
   "outputs": [
    {
     "data": {
      "text/plain": [
       "10"
      ]
     },
     "execution_count": 18,
     "metadata": {},
     "output_type": "execute_result"
    }
   ],
   "source": [
    "def sum1(m):\n",
    "    s = 0\n",
    "    for i in range(1,m+1):\n",
    "        s = s+ i\n",
    "    return s\n",
    "\n",
    "sum1(4)"
   ]
  },
  {
   "cell_type": "code",
   "execution_count": null,
   "id": "6bdb855b",
   "metadata": {},
   "outputs": [],
   "source": []
  }
 ],
 "metadata": {
  "kernelspec": {
   "display_name": "Python 3.9.1 64-bit",
   "language": "python",
   "name": "python391jvsc74a57bd0100e3984d5c280f0fb63b059759aa99075e9aafa25a6d0deff42e20732c08080"
  },
  "language_info": {
   "codemirror_mode": {
    "name": "ipython",
    "version": 3
   },
   "file_extension": ".py",
   "mimetype": "text/x-python",
   "name": "python",
   "nbconvert_exporter": "python",
   "pygments_lexer": "ipython3",
   "version": "3.9.1"
  }
 },
 "nbformat": 4,
 "nbformat_minor": 5
}
