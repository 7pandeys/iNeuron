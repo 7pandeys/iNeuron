{
 "cells": [
  {
   "cell_type": "code",
   "execution_count": 19,
   "id": "d24f392c",
   "metadata": {},
   "outputs": [
    {
     "name": "stdout",
     "output_type": "stream",
     "text": [
      "Enter the value in comma seperated : 100,180,150\n",
      "['100', '180', '150']\n",
      "out :  18,24,22\n"
     ]
    },
    {
     "data": {
      "text/plain": [
       "1"
      ]
     },
     "execution_count": 19,
     "metadata": {},
     "output_type": "execute_result"
    }
   ],
   "source": [
    "from math import sqrt\n",
    "def f():\n",
    "    c,h = 50,30\n",
    "    d=input(\"Enter the value in comma seperated : \")\n",
    "    l=d.split(sep=\",\")\n",
    "    print(l)\n",
    "    for i in range(len(l)):\n",
    "        l[i]= str(int(sqrt((2*c*int(l[i]))/h)))\n",
    "    s=\",\".join(l)\n",
    "    print(\"out : \",s)\n",
    "    return 1\n",
    "\n",
    "f()"
   ]
  },
  {
   "cell_type": "code",
   "execution_count": 31,
   "id": "a85cfd9b",
   "metadata": {},
   "outputs": [
    {
     "data": {
      "text/plain": [
       "array([[0, 0, 0, 0, 0],\n",
       "       [0, 1, 2, 3, 4],\n",
       "       [0, 2, 4, 6, 8]])"
      ]
     },
     "execution_count": 31,
     "metadata": {},
     "output_type": "execute_result"
    }
   ],
   "source": [
    "import numpy as n1\n",
    "def f1(x,y):\n",
    "    l= [i*j for i in range(x) for j in range(y)]\n",
    "    a=n1.array(l).reshape(x,y)\n",
    "    return a\n",
    "\n",
    "f1(3,5)"
   ]
  },
  {
   "cell_type": "code",
   "execution_count": 33,
   "id": "a4ad714c",
   "metadata": {},
   "outputs": [
    {
     "name": "stdout",
     "output_type": "stream",
     "text": [
      "Enter words comma seperated : without,hello,bag,world\n"
     ]
    },
    {
     "data": {
      "text/plain": [
       "'bag,hello,without,world'"
      ]
     },
     "execution_count": 33,
     "metadata": {},
     "output_type": "execute_result"
    }
   ],
   "source": [
    "def f2(s=input(\"Enter words comma seperated : \")):\n",
    "    l=s.split(sep=\",\")\n",
    "    l.sort()\n",
    "    res = \",\".join(l)\n",
    "    return res\n",
    "f2()"
   ]
  },
  {
   "cell_type": "code",
   "execution_count": 45,
   "id": "2b0832ad",
   "metadata": {},
   "outputs": [
    {
     "name": "stdout",
     "output_type": "stream",
     "text": [
      "Enter words space seperated : hello world and practice makes perfect and hello world again\n"
     ]
    },
    {
     "data": {
      "text/plain": [
       "'again and hello makes perfect practice world'"
      ]
     },
     "execution_count": 45,
     "metadata": {},
     "output_type": "execute_result"
    }
   ],
   "source": [
    "def f3(s=input(\"Enter words space seperated : \")):\n",
    "    l=list(set(s.split(sep=\" \")))\n",
    "    l.sort()\n",
    "    res = \" \".join(l)\n",
    "    return res\n",
    "f3()"
   ]
  },
  {
   "cell_type": "code",
   "execution_count": 50,
   "id": "b8f95ebc",
   "metadata": {},
   "outputs": [
    {
     "name": "stdout",
     "output_type": "stream",
     "text": [
      "Enter alphanumeric string : hello world! 123\n"
     ]
    },
    {
     "data": {
      "text/plain": [
       "'LETTERS 10 DIGITS 3 OTHERS 3'"
      ]
     },
     "execution_count": 50,
     "metadata": {},
     "output_type": "execute_result"
    }
   ],
   "source": [
    "def f4(s=input(\"Enter alphanumeric string : \")):\n",
    "    cnt1,cnt2,cnt3 = 0,0,0\n",
    "    for i in range(len(s)):\n",
    "        if s[i] in \"0123456789\":\n",
    "            cnt1 = cnt1+1\n",
    "        elif s[i].lower() in \"abcdefghijklmnopqrstuvwxyz\":\n",
    "            cnt2 = cnt2+1\n",
    "        else:\n",
    "            cnt3 = cnt3+1\n",
    "    return \"LETTERS \" + str(cnt2) + \" DIGITS \" + str(cnt1) + \" OTHERS \" + str(cnt3)\n",
    "                      \n",
    "f4()  \n",
    "                "
   ]
  },
  {
   "cell_type": "code",
   "execution_count": null,
   "id": "8f68082d",
   "metadata": {},
   "outputs": [],
   "source": [
    "def f5(p=input(\"Enter password : \")):\n",
    "    \n",
    "    l=p.split(\",\")\n",
    "    for j in range(len(l)):\n",
    "        c,c1,c2,c3=0,0,0,0\n",
    "        s=l[j]\n",
    "        #print(s)\n",
    "        if len(s) > 5 and len(s) < 13:\n",
    "            for i in range(len(s)):\n",
    "                if s[i] in \"abcdefghijklmnopqrstuvwxyz\":\n",
    "                    c=c+1\n",
    "            for i in range(len(s)):\n",
    "                if s[i] in \"ABCDEFGHIJKLMNOPQRSTUVWXYZ\":\n",
    "                    c1=c1+1\n",
    "            for i in range(len(s)):\n",
    "                if s[i] in \"0123456789\":\n",
    "                    c2=c2+1\n",
    "            for i in range(len(s)):\n",
    "                if s[i] in \"$#@\":\n",
    "                    c3=c3+1\n",
    "        if(c1>0 and c>0 and c2>0 and c3>0):\n",
    "            print(s)\n",
    "        else:\n",
    "            print(c1,c2,c3,c)\n",
    "    return 1\n",
    "f5()\n",
    "            \n",
    "        "
   ]
  },
  {
   "cell_type": "code",
   "execution_count": null,
   "id": "59905e7a",
   "metadata": {},
   "outputs": [],
   "source": []
  }
 ],
 "metadata": {
  "kernelspec": {
   "display_name": "Python 3.9.1 64-bit",
   "language": "python",
   "name": "python391jvsc74a57bd0100e3984d5c280f0fb63b059759aa99075e9aafa25a6d0deff42e20732c08080"
  },
  "language_info": {
   "codemirror_mode": {
    "name": "ipython",
    "version": 3
   },
   "file_extension": ".py",
   "mimetype": "text/x-python",
   "name": "python",
   "nbconvert_exporter": "python",
   "pygments_lexer": "ipython3",
   "version": "3.9.1"
  }
 },
 "nbformat": 4,
 "nbformat_minor": 5
}
