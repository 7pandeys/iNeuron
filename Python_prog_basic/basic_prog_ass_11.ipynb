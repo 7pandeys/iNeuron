{
 "cells": [
  {
   "cell_type": "markdown",
   "metadata": {},
   "source": [
    "## Assignment11"
   ]
  },
  {
   "cell_type": "code",
   "execution_count": 1,
   "metadata": {},
   "outputs": [],
   "source": [
    "l = [\"abc\", 'sandeep', 'ts','test','Theineurontest','DonaldTrump','Gautambudha']\n",
    "l.sort()"
   ]
  },
  {
   "cell_type": "code",
   "execution_count": 2,
   "metadata": {},
   "outputs": [
    {
     "name": "stdout",
     "output_type": "stream",
     "text": [
      "Enter the length to compare :8\n",
      "['DonaldTrump', 'Gautambudha', 'Theineurontest']\n"
     ]
    }
   ],
   "source": [
    "k = int(input('Enter the length to compare :'))\n",
    "s=filter((lambda a: (len(a)>k)),l)\n",
    "print(list(s))"
   ]
  },
  {
   "cell_type": "code",
   "execution_count": 21,
   "metadata": {},
   "outputs": [
    {
     "name": "stdout",
     "output_type": "stream",
     "text": [
      "Enter the str : ineuron\n",
      "Length of the string is :  7\n",
      "Enter ith character to remove : 3\n",
      "ineron\n"
     ]
    }
   ],
   "source": [
    "str2 = input(\"Enter the str : \")\n",
    "l_s=list(str2)\n",
    "l = (len(l_s))\n",
    "print(\"Length of the string is : \", l)\n",
    "str1 = input(\"Enter ith character to remove : \")\n",
    "l_s.pop(int(str1))\n",
    "print(\"\".join(l_s))"
   ]
  },
  {
   "cell_type": "code",
   "execution_count": 23,
   "metadata": {},
   "outputs": [
    {
     "name": "stdout",
     "output_type": "stream",
     "text": [
      "Enter a sentence : hi, this is my best day \n",
      "Split of string ['hi,', 'this', 'is', 'my', 'best', 'day', '']\n",
      "Join of string hi, this is my best day \n"
     ]
    }
   ],
   "source": [
    "str3= input(\"Enter a sentence : \")\n",
    "l1 = str3.split(sep=\" \")\n",
    "print(\"Split of string\", l1)\n",
    "print(\"Join of string\", \" \".join(l1))"
   ]
  },
  {
   "cell_type": "code",
   "execution_count": 30,
   "metadata": {},
   "outputs": [
    {
     "name": "stdout",
     "output_type": "stream",
     "text": [
      "Enter string01a\n",
      "01a is a not binary string\n"
     ]
    }
   ],
   "source": [
    "str4 = input(\"Enter string\")\n",
    "s=set(str4)\n",
    "s1={'0','1'}\n",
    "if (len(s)==2 and s==s1) or (len(s)==1 and ('0' in s or '1' in s)):\n",
    "    print(str4 + \" is a binary string\")\n",
    "else:\n",
    "    print(str4 + \" is a not binary string\")"
   ]
  },
  {
   "cell_type": "code",
   "execution_count": 35,
   "metadata": {},
   "outputs": [
    {
     "name": "stdout",
     "output_type": "stream",
     "text": [
      "Enter sentence 1 : this is holiday\n",
      "Enter sentence 2 : holiday are this good \n",
      "Uncommon words :  {'are', 'good', 'is'}\n"
     ]
    }
   ],
   "source": [
    "str5 = input(\"Enter sentence 1 : \").split()\n",
    "str6 = input(\"Enter sentence 2 : \").split()\n",
    "print(\"Uncommon words : \", set(str5).symmetric_difference(set(str6)))"
   ]
  },
  {
   "cell_type": "code",
   "execution_count": 45,
   "metadata": {},
   "outputs": [
    {
     "name": "stdout",
     "output_type": "stream",
     "text": [
      "Enter string : Hello boss\n",
      "List of duplicate characters :  ['o', 'l', 's']\n"
     ]
    }
   ],
   "source": [
    "from collections import Counter\n",
    "str6 = input(\"Enter string : \")\n",
    "l=list(str6)\n",
    "s=list(set(l))\n",
    "b=[]\n",
    "for i in range(len(s)):\n",
    "    if l.count(s[i]) > 1:\n",
    "        b.append(s[i])\n",
    "print(\"List of duplicate characters : \", b)\n",
    "        "
   ]
  },
  {
   "cell_type": "code",
   "execution_count": 52,
   "metadata": {},
   "outputs": [
    {
     "name": "stdout",
     "output_type": "stream",
     "text": [
      "Enter string for searching special char : hello? ok #twiter\n",
      "This is special containing string\n"
     ]
    }
   ],
   "source": [
    "str7=input(\"Enter string for searching special char : \")\n",
    "if any(not c.isalnum() for c in str7) is True:\n",
    "    print(\"This is special containing string\")\n",
    "else:\n",
    "    print(\"This string is without special character\")"
   ]
  },
  {
   "cell_type": "code",
   "execution_count": null,
   "metadata": {},
   "outputs": [],
   "source": []
  }
 ],
 "metadata": {
  "kernelspec": {
   "display_name": "Python 3",
   "language": "python",
   "name": "python3"
  },
  "language_info": {
   "codemirror_mode": {
    "name": "ipython",
    "version": 3
   },
   "file_extension": ".py",
   "mimetype": "text/x-python",
   "name": "python",
   "nbconvert_exporter": "python",
   "pygments_lexer": "ipython3",
   "version": "3.9.1"
  }
 },
 "nbformat": 4,
 "nbformat_minor": 2
}
