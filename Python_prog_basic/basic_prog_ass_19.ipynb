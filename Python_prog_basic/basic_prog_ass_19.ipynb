{
 "cells": [
  {
   "cell_type": "code",
   "execution_count": 14,
   "id": "awful-source",
   "metadata": {},
   "outputs": [
    {
     "data": {
      "text/plain": [
       "'aabbcc'"
      ]
     },
     "execution_count": 14,
     "metadata": {},
     "output_type": "execute_result"
    }
   ],
   "source": [
    "def double(str):\n",
    "    return ''.join([c+c for c in str])\n",
    "\n",
    "double(\"abc\")"
   ]
  },
  {
   "cell_type": "code",
   "execution_count": 23,
   "id": "proved-border",
   "metadata": {},
   "outputs": [
    {
     "data": {
      "text/plain": [
       "True"
      ]
     },
     "execution_count": 23,
     "metadata": {},
     "output_type": "execute_result"
    }
   ],
   "source": [
    "def reverse(n):\n",
    "    if n == True:\n",
    "        return True\n",
    "    elif n == False:\n",
    "        return False\n",
    "    else:\n",
    "        return \"boolean expected\"\n",
    "\n",
    "reverse(True)"
   ]
  },
  {
   "cell_type": "code",
   "execution_count": 34,
   "id": "continent-trade",
   "metadata": {},
   "outputs": [
    {
     "data": {
      "text/plain": [
       "'1048576m'"
      ]
     },
     "execution_count": 34,
     "metadata": {},
     "output_type": "execute_result"
    }
   ],
   "source": [
    "def num_layers(n):\n",
    "    return str(round(2**21*.5)) + \"m\"\n",
    "\n",
    "num_layers(21)"
   ]
  },
  {
   "cell_type": "code",
   "execution_count": 57,
   "id": "respective-storm",
   "metadata": {},
   "outputs": [
    {
     "data": {
      "text/plain": [
       "[1, 3, 5]"
      ]
     },
     "execution_count": 57,
     "metadata": {},
     "output_type": "execute_result"
    }
   ],
   "source": [
    "l = []\n",
    "s = \"eDaBiT\"\n",
    "[l.append(i) if s[i].isupper() else None for i in range(len(s)) ]\n",
    "l"
   ]
  },
  {
   "cell_type": "code",
   "execution_count": 60,
   "id": "worth-creation",
   "metadata": {},
   "outputs": [
    {
     "data": {
      "text/plain": [
       "[0, 2, 4, 6, 8]"
      ]
     },
     "execution_count": 60,
     "metadata": {},
     "output_type": "execute_result"
    }
   ],
   "source": [
    "l=[]\n",
    "n=9\n",
    "[l.append(i) if i%2==0 else None for i in range(n) ]\n",
    "l\n",
    "                                                "
   ]
  }
 ],
 "metadata": {
  "kernelspec": {
   "display_name": "Python 3",
   "language": "python",
   "name": "python3"
  },
  "language_info": {
   "codemirror_mode": {
    "name": "ipython",
    "version": 3
   },
   "file_extension": ".py",
   "mimetype": "text/x-python",
   "name": "python",
   "nbconvert_exporter": "python",
   "pygments_lexer": "ipython3",
   "version": "3.7.8"
  }
 },
 "nbformat": 4,
 "nbformat_minor": 5
}
