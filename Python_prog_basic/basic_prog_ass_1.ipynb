{
 "cells": [
  {
   "cell_type": "code",
   "execution_count": 6,
   "id": "02ea329d",
   "metadata": {},
   "outputs": [
    {
     "name": "stdout",
     "output_type": "stream",
     "text": [
      "ADD = 11\n",
      "DIV = 2.6666666666666665\n",
      "Area of triangle = 6.0\n",
      "Before swap :\t v1 = 45 \t v2 = 54\n",
      "After swap :\t v1 = 54 \t v2 = 45\n",
      "1\n",
      "0.9232504743171799\n",
      "Hello Python\n"
     ]
    }
   ],
   "source": [
    "# ! Write a Python program to do arithmetical operations addition and division.?\n",
    "\n",
    "import random\n",
    "\n",
    "\n",
    "def add_div(arg_1, arg_2):\n",
    "    add = arg_1 + arg_2\n",
    "    div = arg_1 / arg_2\n",
    "    return \"ADD\" + \" = \" + str(add) + \"\\n\" + \"DIV\" + \" = \" + str(div)\n",
    "\n",
    "\n",
    "print(add_div(8, 3))"
   ]
  },
  {
   "cell_type": "code",
   "execution_count": null,
   "id": "d5facfd1",
   "metadata": {},
   "outputs": [],
   "source": [
    "# ! Write a Python program to find the area of a triangle?\n",
    "\n",
    "\n",
    "def area(height, breadth):\n",
    "    area = (height * breadth) / 2\n",
    "    return \"Area of triangle = \" + str(area)\n",
    "\n",
    "\n",
    "print(area(6, 2))"
   ]
  },
  {
   "cell_type": "code",
   "execution_count": null,
   "id": "80d0d831",
   "metadata": {},
   "outputs": [],
   "source": [
    "# ! Write a Python program to swap two variables?\n",
    "\n",
    "\n",
    "def swap(v1, v2):\n",
    "    print(\"Before swap :\\t v1 = {v1} \\t v2 = {v2}\".format(v1=v1, v2=v2))\n",
    "    tmp = v1\n",
    "    v1 = v2\n",
    "    v2 = tmp\n",
    "    print(\"After swap :\\t v1 = {v1} \\t v2 = {v2}\".format(v1=v1, v2=v2))\n",
    "    return 1\n",
    "\n",
    "\n",
    "print(swap(45, 54))"
   ]
  },
  {
   "cell_type": "code",
   "execution_count": null,
   "id": "f1beca37",
   "metadata": {},
   "outputs": [],
   "source": [
    "\n",
    "# ! Write a Python program to generate a random number?\n",
    "\n",
    "\n",
    "n = random. random()\n",
    "print(n)"
   ]
  },
  {
   "cell_type": "code",
   "execution_count": null,
   "id": "4333b5ea",
   "metadata": {},
   "outputs": [],
   "source": [
    "# ! Write a Python program to print \"Hello Python\"?\n",
    "\n",
    "print(\"Hello Python\")"
   ]
  }
 ],
 "metadata": {
  "kernelspec": {
   "display_name": "Python 3.9.1 64-bit",
   "language": "python",
   "name": "python391jvsc74a57bd0100e3984d5c280f0fb63b059759aa99075e9aafa25a6d0deff42e20732c08080"
  },
  "language_info": {
   "codemirror_mode": {
    "name": "ipython",
    "version": 3
   },
   "file_extension": ".py",
   "mimetype": "text/x-python",
   "name": "python",
   "nbconvert_exporter": "python",
   "pygments_lexer": "ipython3",
   "version": "3.9.1"
  }
 },
 "nbformat": 4,
 "nbformat_minor": 5
}
