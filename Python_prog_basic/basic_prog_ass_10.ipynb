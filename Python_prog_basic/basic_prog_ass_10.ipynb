{
 "cells": [
  {
   "cell_type": "code",
   "execution_count": 26,
   "id": "c9ac249d",
   "metadata": {},
   "outputs": [
    {
     "name": "stdout",
     "output_type": "stream",
     "text": [
      "Sum of the list :  32\n",
      "Mulitply of the list :  4480\n",
      "Smallest no in the list :  1\n",
      "Largest no in the list :  10\n",
      "Second Largest no in the list :  8\n",
      "Enter N : 4\n",
      "N Largest no in the list :  4\n",
      "Even number in the list : [2, 4, 8, 10]\n",
      "Odd number in the list : [1, 7]\n",
      "Remove empty list :  [4, 2, 8, 1, 7, 10]\n",
      "Cloning or Copying list :  [4, 2, 8, 1, 7, 10]\n",
      "Count occurance :  3\n"
     ]
    }
   ],
   "source": [
    "from functools import reduce\n",
    "from collections import Counter\n",
    "lis = [4,2,8,1,7,10]\n",
    "lis.sort()\n",
    "s = reduce(lambda a,b:a+b,lis)\n",
    "m = reduce(lambda a,b:a*b,lis)\n",
    "print(\"Sum of the list : \", s)\n",
    "print(\"Mulitply of the list : \", m)\n",
    "print(\"Smallest no in the list : \",lis[0])\n",
    "print(\"Largest no in the list : \",lis[-1])\n",
    "print(\"Second Largest no in the list : \",lis[-2])\n",
    "N=int(input(\"Enter N : \")) # place the value for N\n",
    "print(\"N Largest no in the list : \",lis[-N])\n",
    "e=list(filter(lambda a: (a%2 == 0),lis))\n",
    "o=list(filter(lambda x: (x % 2 != 0), lis))\n",
    "print(\"Even number in the list :\", e)\n",
    "print(\"Odd number in the list :\", o)\n",
    "lis1 = [4,2,[],[],8,1,7,10,[], ()]\n",
    "#em=list(filter(lambda x: (x != []), lis1)) # 1approach\n",
    "em = [x for x in lis1 if x]\n",
    "print(\"Remove empty list : \", em)\n",
    "cp = em[:]\n",
    "print(\"Cloning or Copying list : \", cp)\n",
    "lis2 = [4,2,8,1,7,1,4,19,1,19,19]\n",
    "print(\"Count occurance : \", lis2.count(19)) #(Counter(lis2))"
   ]
  },
  {
   "cell_type": "code",
   "execution_count": null,
   "id": "36b3a8ca",
   "metadata": {},
   "outputs": [],
   "source": []
  }
 ],
 "metadata": {
  "kernelspec": {
   "display_name": "Python 3.9.1 64-bit",
   "language": "python",
   "name": "python391jvsc74a57bd0100e3984d5c280f0fb63b059759aa99075e9aafa25a6d0deff42e20732c08080"
  },
  "language_info": {
   "codemirror_mode": {
    "name": "ipython",
    "version": 3
   },
   "file_extension": ".py",
   "mimetype": "text/x-python",
   "name": "python",
   "nbconvert_exporter": "python",
   "pygments_lexer": "ipython3",
   "version": "3.9.1"
  }
 },
 "nbformat": 4,
 "nbformat_minor": 5
}
