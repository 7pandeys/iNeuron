{
 "cells": [
  {
   "cell_type": "code",
   "execution_count": 1,
   "id": "49499030",
   "metadata": {},
   "outputs": [
    {
     "name": "stdout",
     "output_type": "stream",
     "text": [
      "1.24 miles in 2.0000 kilometers :\n",
      "3.17 miles in 5.1000 kilometers :\n",
      "3.73 miles in 6.0000 kilometers :\n",
      "That's not an numerical value!\n"
     ]
    },
    {
     "data": {
      "text/plain": [
       "1"
      ]
     },
     "execution_count": 1,
     "metadata": {},
     "output_type": "execute_result"
    }
   ],
   "source": [
    "# ! Write a Python program to convert kilometers to miles?\n",
    "import cmath\n",
    "import calendar\n",
    "\n",
    "\n",
    "def km_m(km):\n",
    "    try:\n",
    "        val = float(km)\n",
    "        print(\"{:.2f} miles in {:.4f} kilometers :\".format(val*0.6214, val))\n",
    "    except ValueError:\n",
    "        print(\"That's not an numerical value!\")\n",
    "    return 1  # 0.6214*km\n",
    "\n",
    "\n",
    "km_m(\"2\")\n",
    "km_m(5.1)\n",
    "km_m(6)\n",
    "km_m(\"Cobra\")\n"
   ]
  },
  {
   "cell_type": "code",
   "execution_count": 2,
   "id": "741339ad",
   "metadata": {},
   "outputs": [
    {
     "name": "stdout",
     "output_type": "stream",
     "text": [
      "3.60 Fahrenheit in 2.0 Celsius :\n",
      "9.18 Fahrenheit in 5.1 Celsius :\n",
      "10.80 Fahrenheit in 6.0 Celsius :\n",
      "That's not an numerical value!\n"
     ]
    },
    {
     "data": {
      "text/plain": [
       "1"
      ]
     },
     "execution_count": 2,
     "metadata": {},
     "output_type": "execute_result"
    }
   ],
   "source": [
    "# ! Write a Python program to convert Celsius to Fahrenheit?\n",
    "\n",
    "\n",
    "def c_f(temp):\n",
    "    try:\n",
    "        val = float(temp)\n",
    "        print(\"{:.2f} Fahrenheit in {:.1f} Celsius :\".format((val*9)/5, val))\n",
    "    except ValueError:\n",
    "        print(\"That's not an numerical value!\")\n",
    "    return 1  # 0.6214*km\n",
    "\n",
    "\n",
    "c_f(\"2\")\n",
    "c_f(5.1)\n",
    "c_f(6)\n",
    "c_f(\"Cobra\")"
   ]
  },
  {
   "cell_type": "code",
   "execution_count": 3,
   "id": "bbee309c",
   "metadata": {},
   "outputs": [
    {
     "name": "stdout",
     "output_type": "stream",
     "text": [
      "     June 2021\n",
      "Mo Tu We Th Fr Sa Su\n",
      "    1  2  3  4  5  6\n",
      " 7  8  9 10 11 12 13\n",
      "14 15 16 17 18 19 20\n",
      "21 22 23 24 25 26 27\n",
      "28 29 30\n",
      "\n",
      "That's not an numerical value!\n",
      "      May 1000\n",
      "Mo Tu We Th Fr Sa Su\n",
      "          1  2  3  4\n",
      " 5  6  7  8  9 10 11\n",
      "12 13 14 15 16 17 18\n",
      "19 20 21 22 23 24 25\n",
      "26 27 28 29 30 31\n",
      "\n"
     ]
    },
    {
     "data": {
      "text/plain": [
       "1"
      ]
     },
     "execution_count": 3,
     "metadata": {},
     "output_type": "execute_result"
    }
   ],
   "source": [
    "# ! Write a Python program to display calendar?\n",
    "def cal(y, m):\n",
    "    try:\n",
    "        year = int(y)\n",
    "        month = int(m)\n",
    "        # display the calendar\n",
    "        print(calendar.month(year, month))\n",
    "    except ValueError:\n",
    "        print(\"That's not an numerical value!\")\n",
    "    return 1\n",
    "\n",
    "\n",
    "cal(2021, 6)\n",
    "cal(2021, 'jun')\n",
    "cal(1000, 5)"
   ]
  },
  {
   "cell_type": "code",
   "execution_count": 4,
   "id": "f054894c",
   "metadata": {},
   "outputs": [
    {
     "name": "stdout",
     "output_type": "stream",
     "text": [
      "Quadratic Equation : 1*9**2 + 2*9 + 4\n",
      "The solution are -1.00-1.73j and -1.00+1.73j\n"
     ]
    },
    {
     "data": {
      "text/plain": [
       "1"
      ]
     },
     "execution_count": 4,
     "metadata": {},
     "output_type": "execute_result"
    }
   ],
   "source": [
    "# ! Write a Python program to solve quadratic equation?\n",
    "\n",
    "# import cmath\n",
    "\n",
    "\n",
    "def quad(x, a=1, b=2, c=4):\n",
    "    #a = input(\"Enter value\")\n",
    "    print(\"Quadratic Equation : {0}*{1}**2 + {2}*{3} + {4}\".format(a, x, b, x, c))\n",
    "\n",
    "    # calculate the discriminant\n",
    "    d = (b**2) - (4*a*c)\n",
    "\n",
    "    # fine two solutions\n",
    "    sol1 = (-b-cmath.sqrt(d))/(2*a)\n",
    "    sol2 = (-b+cmath.sqrt(d))/(2*a)\n",
    "\n",
    "    print('The solution are {:.2f} and {:.2f}'.format(sol1, sol2))\n",
    "\n",
    "    return 1\n",
    "\n",
    "\n",
    "quad(9)"
   ]
  },
  {
   "cell_type": "code",
   "execution_count": 5,
   "id": "ef421fd1",
   "metadata": {},
   "outputs": [
    {
     "name": "stdout",
     "output_type": "stream",
     "text": [
      "Before swap :\t v1 = 6 \t v2 = 7\n",
      "After swap :\t v1 = 7 \t v2 = 6\n"
     ]
    },
    {
     "data": {
      "text/plain": [
       "1"
      ]
     },
     "execution_count": 5,
     "metadata": {},
     "output_type": "execute_result"
    }
   ],
   "source": [
    "# ! Write a Python program to swap two variables without temp variable?\n",
    "\n",
    "def swap(v1, v2):\n",
    "    print(\"Before swap :\\t v1 = {v1} \\t v2 = {v2}\".format(v1=v1, v2=v2))\n",
    "    v1 = v1 + v2\n",
    "    v2 = v1 - v2\n",
    "    v1 = v1 - v2\n",
    "\n",
    "    print(\"After swap :\\t v1 = {v1} \\t v2 = {v2}\".format(v1=v1, v2=v2))\n",
    "    return 1\n",
    "\n",
    "\n",
    "swap(6, 7)"
   ]
  },
  {
   "cell_type": "code",
   "execution_count": null,
   "id": "7bd7e68d",
   "metadata": {},
   "outputs": [],
   "source": []
  }
 ],
 "metadata": {
  "kernelspec": {
   "display_name": "Python 3.9.1 64-bit",
   "language": "python",
   "name": "python391jvsc74a57bd0100e3984d5c280f0fb63b059759aa99075e9aafa25a6d0deff42e20732c08080"
  },
  "language_info": {
   "codemirror_mode": {
    "name": "ipython",
    "version": 3
   },
   "file_extension": ".py",
   "mimetype": "text/x-python",
   "name": "python",
   "nbconvert_exporter": "python",
   "pygments_lexer": "ipython3",
   "version": "3.9.1"
  }
 },
 "nbformat": 4,
 "nbformat_minor": 5
}
