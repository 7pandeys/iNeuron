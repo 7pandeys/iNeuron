{
 "cells": [
  {
   "cell_type": "code",
   "execution_count": 10,
   "id": "72895f10",
   "metadata": {},
   "outputs": [
    {
     "data": {
      "text/plain": [
       "[6, 7, 8, 9, 1]"
      ]
     },
     "execution_count": 10,
     "metadata": {},
     "output_type": "execute_result"
    }
   ],
   "source": [
    "def next_in_line(l,a):\n",
    "    l.append(a)\n",
    "    l.remove(l[0])\n",
    "    return l\n",
    "\n",
    "next_in_line([5, 6, 7, 8, 9], 1)"
   ]
  },
  {
   "cell_type": "code",
   "execution_count": 39,
   "id": "c90061d9",
   "metadata": {},
   "outputs": [
    {
     "data": {
      "text/plain": [
       "'Sum of the budget --- 65700'"
      ]
     },
     "execution_count": 39,
     "metadata": {},
     "output_type": "execute_result"
    }
   ],
   "source": [
    "def get_budgets(d):\n",
    "    sum=0\n",
    "    for i in (d):\n",
    "        sum= sum+(i.get('budget'))\n",
    "        \n",
    "    return \"Sum of the budget --- \" + str(sum)  \n",
    "\n",
    "get_budgets([\n",
    "  { \"name\": \"John\", \"age\": 21, \"budget\": 23000 },\n",
    "  { \"name\": \"Steve\",  \"age\": 32, \"budget\": 40000 },\n",
    "  { \"name\": \"Martin\",  \"age\": 16, \"budget\": 2700 }\n",
    "])\n"
   ]
  },
  {
   "cell_type": "code",
   "execution_count": 60,
   "id": "d77a22e6",
   "metadata": {},
   "outputs": [
    {
     "data": {
      "text/plain": [
       "'ehllo'"
      ]
     },
     "execution_count": 60,
     "metadata": {},
     "output_type": "execute_result"
    }
   ],
   "source": [
    "def alphabet_soup(s):\n",
    "    l=list(s)\n",
    "    l.sort(reverse=False)\n",
    "    n=\"\".join(l)\n",
    "    return n\n",
    "\n",
    "\n",
    "alphabet_soup(\"hello\")"
   ]
  },
  {
   "cell_type": "code",
   "execution_count": 93,
   "id": "e53e4a93",
   "metadata": {},
   "outputs": [
    {
     "data": {
      "text/plain": [
       "2007316.26"
      ]
     },
     "execution_count": 93,
     "metadata": {},
     "output_type": "execute_result"
    }
   ],
   "source": [
    "def compound_interest(p,t,r,m):\n",
    "    return round(p*(1 + r/(m))**(t*(m)),2)\n",
    "\n",
    "\n",
    "compound_interest(100000, 20, 0.15, 365)"
   ]
  },
  {
   "cell_type": "code",
   "execution_count": 84,
   "id": "cf1529f0",
   "metadata": {},
   "outputs": [
    {
     "data": {
      "text/plain": [
       "[9, 2, 16]"
      ]
     },
     "execution_count": 84,
     "metadata": {},
     "output_type": "execute_result"
    }
   ],
   "source": [
    "def return_only_integer(o):\n",
    "    l=[]\n",
    "    for i in o:\n",
    "        try:\n",
    "            if(int(i)):\n",
    "                l.append(i)\n",
    "        except:\n",
    "            c=1\n",
    "        #finally:\n",
    "            #print(\"Final\")\n",
    "    return l\n",
    "\n",
    "return_only_integer([9, 2, \"space\", \"car\", \"lion\", 16])\n",
    "        \n",
    "    "
   ]
  },
  {
   "cell_type": "code",
   "execution_count": null,
   "id": "4b9d81aa",
   "metadata": {},
   "outputs": [],
   "source": []
  }
 ],
 "metadata": {
  "kernelspec": {
   "display_name": "Python 3 (ipykernel)",
   "language": "python",
   "name": "python3"
  },
  "language_info": {
   "codemirror_mode": {
    "name": "ipython",
    "version": 3
   },
   "file_extension": ".py",
   "mimetype": "text/x-python",
   "name": "python",
   "nbconvert_exporter": "python",
   "pygments_lexer": "ipython3",
   "version": "3.9.6"
  }
 },
 "nbformat": 4,
 "nbformat_minor": 5
}
