{
 "cells": [
  {
   "cell_type": "code",
   "execution_count": 1,
   "id": "a8b482c9",
   "metadata": {},
   "outputs": [],
   "source": [
    "from math import pi\n",
    "class task1:\n",
    "    \n",
    "    def __init__(own, r1=0, r2=0):\n",
    "        own.r1 = r1\n",
    "        own.r2 = r2\n",
    "    def __str__(own):\n",
    "        return \"Task 1\"\n",
    "        \n",
    "    def task1_1(own,a=2000,b=3200):\n",
    "        \"\"\"Number divisible by 7 but not mulitple of 5\"\"\"\n",
    "        print(\"Task 1.1: Number divisible by 7 but not mulitple of 5\")\n",
    "        print(\"-----------------------------------------------------------------\")\n",
    "        result = [] \n",
    "        out = \"\"# to store output\n",
    "        while a <= b:\n",
    "            if a%7 ==0 and a%5 != 0:\n",
    "                result = result + [str(a)]\n",
    "                out = \",\".join(result)\n",
    "            a=a+1\n",
    "        print(out)    \n",
    "        return out\n",
    "    def task1_2(own, fname=\"Sandeep\", lname=\"Pandey\"):\n",
    "        \"\"\"User enter firstname and lastname and make it reverse\"\"\"\n",
    "        print(\"Task 1.2: User enter firstname and lastname and make it reverse\")\n",
    "        print(\"-----------------------------------------------------------------\")\n",
    "        fname=input(\"Enter First name : \")\n",
    "        lname=input(\"Enter Last name : \")\n",
    "        rev = lname+ \" \" +fname\n",
    "        print(rev)\n",
    "        return rev\n",
    "    def task1_3(own, d=12):\n",
    "        \"\"\"Volume of sphere\"\"\"\n",
    "        print(\"Task 1.3: Volume of sphere\")\n",
    "        print(\"-----------------------------------------------------------------\")\n",
    "        Vol_sphere = (4/3)*pi*((d/2)**3) \n",
    "        print(Vol_sphere)\n",
    "        return Vol_sphere\n",
    "        "
   ]
  },
  {
   "cell_type": "code",
   "execution_count": 2,
   "id": "4ef64b62",
   "metadata": {},
   "outputs": [
    {
     "name": "stdout",
     "output_type": "stream",
     "text": [
      "Task 1\n",
      "Task 1.1: Number divisible by 7 but not mulitple of 5\n",
      "-----------------------------------------------------------------\n",
      "2002,2009,2016,2023,2037,2044,2051,2058,2072,2079,2086,2093,2107,2114,2121,2128,2142,2149,2156,2163,2177,2184,2191,2198,2212,2219,2226,2233,2247,2254,2261,2268,2282,2289,2296,2303,2317,2324,2331,2338,2352,2359,2366,2373,2387,2394,2401,2408,2422,2429,2436,2443,2457,2464,2471,2478,2492,2499,2506,2513,2527,2534,2541,2548,2562,2569,2576,2583,2597,2604,2611,2618,2632,2639,2646,2653,2667,2674,2681,2688,2702,2709,2716,2723,2737,2744,2751,2758,2772,2779,2786,2793,2807,2814,2821,2828,2842,2849,2856,2863,2877,2884,2891,2898,2912,2919,2926,2933,2947,2954,2961,2968,2982,2989,2996,3003,3017,3024,3031,3038,3052,3059,3066,3073,3087,3094,3101,3108,3122,3129,3136,3143,3157,3164,3171,3178,3192,3199\n",
      "Task 1.2: User enter firstname and lastname and make it reverse\n",
      "-----------------------------------------------------------------\n",
      "Enter First name : Sandeep\n",
      "Enter Last name : Pandey\n",
      "Pandey Sandeep\n",
      "Task 1.3: Volume of sphere\n",
      "-----------------------------------------------------------------\n",
      "904.7786842338603\n"
     ]
    },
    {
     "data": {
      "text/plain": [
       "904.7786842338603"
      ]
     },
     "execution_count": 2,
     "metadata": {},
     "output_type": "execute_result"
    }
   ],
   "source": [
    "t = task1()\n",
    "print(t)\n",
    "t.task1_1()\n",
    "t.task1_2()\n",
    "t.task1_3(12)"
   ]
  },
  {
   "cell_type": "code",
   "execution_count": 3,
   "id": "f3465197",
   "metadata": {},
   "outputs": [],
   "source": [
    "class task2:\n",
    "    \n",
    "    def __init__(own, r1=0, r2=0):\n",
    "        own.r1 = r1\n",
    "        own.r2 = r2\n",
    "    def __str__(own):\n",
    "        return \"Task 2\"\n",
    "        \n",
    "    def task2_1(own):\n",
    "        \"\"\"Accept comma separated values and convert in list\"\"\"\n",
    "        print(\"Task 2.1: Accept comma separated values and convert in list\")\n",
    "        print(\"-----------------------------------------------------------------\")\n",
    "        l = input(\"Enter comma separated values : \")\n",
    "        l = l.split(\",\")\n",
    "        print(l)\n",
    "        return l\n",
    "    def task2_2(own):\n",
    "        \"\"\"Print pattern\"\"\"\n",
    "        print(\"Task 2.2: Print pattern\")\n",
    "        print(\"-----------------------------------------------------------------\")\n",
    "        for i in range(9):\n",
    "            if(i <= 4):\n",
    "                for j in range(i+1):\n",
    "                    print(\"*\", end=\" \")\n",
    "                print(\"\\n\")\n",
    "            else:\n",
    "                for j in range(i,9):\n",
    "                    print(\"*\", end=\" \")\n",
    "                print(\"\\n\")\n",
    "        return 1\n",
    "    def task2_3(own):\n",
    "        \"\"\"Enter a word to reverse\"\"\"\n",
    "        print(\"Task 2.3: Enter a word to reverse: \")\n",
    "        print(\"-----------------------------------------------------------------\")\n",
    "        word = input(\"Enter a word to reverse\")\n",
    "        print(word[::-1])\n",
    "    \n",
    "        return word[::-1]\n",
    "    def task2_4(own):\n",
    "        \"\"\"Print the string in sample\"\"\"\n",
    "        print(\"Task 2.4: Print the string in sample\")\n",
    "        print(\"-----------------------------------------------------------------\")\n",
    "        print(\"WE, THE PEOPLE OF INDIA,\\n\\thaving solemnly resolved to constitute India into a SOVEREIGN,! \\n\\t\\tSOCIALIST, SECULAR, DEMOCRATIC REPUBLIC \\n\\t\\t and to secure to all its citizens\") \n",
    "        return 1"
   ]
  },
  {
   "cell_type": "code",
   "execution_count": 4,
   "id": "66782565",
   "metadata": {},
   "outputs": [
    {
     "name": "stdout",
     "output_type": "stream",
     "text": [
      "Task 2\n",
      "Task 2.1: Accept comma separated values and convert in list\n",
      "-----------------------------------------------------------------\n",
      "Enter comma separated values : 1,lol,data,6\n",
      "['1', 'lol', 'data', '6']\n",
      "Task 2.2: Print pattern\n",
      "-----------------------------------------------------------------\n",
      "* \n",
      "\n",
      "* * \n",
      "\n",
      "* * * \n",
      "\n",
      "* * * * \n",
      "\n",
      "* * * * * \n",
      "\n",
      "* * * * \n",
      "\n",
      "* * * \n",
      "\n",
      "* * \n",
      "\n",
      "* \n",
      "\n",
      "Task 2.3: Enter a word to reverse: \n",
      "-----------------------------------------------------------------\n",
      "Enter a word to reverseTuesday\n",
      "yadseuT\n",
      "Task 2.4: Print the string in sample\n",
      "-----------------------------------------------------------------\n",
      "WE, THE PEOPLE OF INDIA,\n",
      "\thaving solemnly resolved to constitute India into a SOVEREIGN,! \n",
      "\t\tSOCIALIST, SECULAR, DEMOCRATIC REPUBLIC \n",
      "\t\t and to secure to all its citizens\n"
     ]
    },
    {
     "data": {
      "text/plain": [
       "1"
      ]
     },
     "execution_count": 4,
     "metadata": {},
     "output_type": "execute_result"
    }
   ],
   "source": [
    "t = task2()\n",
    "print(t)\n",
    "t.task2_1()\n",
    "t.task2_2()\n",
    "t.task2_3()\n",
    "t.task2_4()"
   ]
  },
  {
   "cell_type": "code",
   "execution_count": null,
   "id": "32c54008",
   "metadata": {},
   "outputs": [],
   "source": []
  }
 ],
 "metadata": {
  "kernelspec": {
   "display_name": "Python 3",
   "language": "python",
   "name": "python3"
  },
  "language_info": {
   "codemirror_mode": {
    "name": "ipython",
    "version": 3
   },
   "file_extension": ".py",
   "mimetype": "text/x-python",
   "name": "python",
   "nbconvert_exporter": "python",
   "pygments_lexer": "ipython3",
   "version": "3.9.1"
  }
 },
 "nbformat": 4,
 "nbformat_minor": 5
}
