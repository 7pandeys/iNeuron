{
  "nbformat": 4,
  "nbformat_minor": 0,
  "metadata": {
    "colab": {
      "name": "Untitled1.ipynb",
      "provenance": [],
      "collapsed_sections": [],
      "authorship_tag": "ABX9TyMRHSoqkd5P1pdoFI8xW2XQ",
      "include_colab_link": true
    },
    "kernelspec": {
      "name": "python3",
      "display_name": "Python 3"
    },
    "language_info": {
      "name": "python"
    }
  },
  "cells": [
    {
      "cell_type": "markdown",
      "metadata": {
        "id": "view-in-github",
        "colab_type": "text"
      },
      "source": [
        "<a href=\"https://colab.research.google.com/github/7pandeys/iNeuron/blob/Root/basic_prog_ass_14.ipynb\" target=\"_parent\"><img src=\"https://colab.research.google.com/assets/colab-badge.svg\" alt=\"Open In Colab\"/></a>"
      ]
    },
    {
      "cell_type": "code",
      "metadata": {
        "id": "H4G-MPcBDdFJ",
        "colab": {
          "base_uri": "https://localhost:8080/"
        },
        "outputId": "687e3671-3505-47a3-bb46-70d1c8ad4cf9"
      },
      "source": [
        "from collections import Counter\n",
        "class mathh:\n",
        "    def __init__(self):\n",
        "        pass\n",
        "    def __str__(self):\n",
        "        return \"This class is to create function\"\n",
        "    def div7(self, i,n):\n",
        "        l=[]\n",
        "        \"\"\"using while loop\"\"\"\n",
        "        while i < n:\n",
        "            if i % 7 == 0:\n",
        "                l.append(i)\n",
        "            i=i+1\n",
        "        yield l\n",
        "    def cnt(self, inp):\n",
        "        l= inp.split()\n",
        "        s = set(inp)\n",
        "        d = {}\n",
        "        for i in set(l):\n",
        "            d[i] = l.count(i)\n",
        "            \n",
        "        return d #Counter(input)\n",
        "        \n",
        "        \n",
        "\n",
        "        \n",
        "num = mathh()\n",
        "print(num)\n",
        "print(\"Divisible by 7 numbers : \",list(num.div7(2,15)))\n",
        "print(\"Counter : \", num.cnt(\"New to Python or choosing between Python 2 and Python 3? Read Python 2 or Python 3\"))"
      ],
      "execution_count": 1,
      "outputs": [
        {
          "output_type": "stream",
          "text": [
            "This class is to create function\n",
            "Divisible by 7 numbers :  [[7, 14]]\n",
            "Counter :  {'or': 2, 'Python': 5, 'to': 1, 'New': 1, 'choosing': 1, '3?': 1, '2': 2, 'Read': 1, 'and': 1, '3': 1, 'between': 1}\n"
          ],
          "name": "stdout"
        }
      ]
    },
    {
      "cell_type": "code",
      "metadata": {
        "colab": {
          "base_uri": "https://localhost:8080/"
        },
        "id": "FPbp2UMrLPDh",
        "outputId": "3a6920bf-d61e-4dcf-8ea5-4d16c28e4501"
      },
      "source": [
        "class Person:\n",
        "    def __init__(self):\n",
        "        pass\n",
        "    \n",
        "    def getgender(self):\n",
        "        pass\n",
        "    \n",
        "class Male(Person):\n",
        "    def __init__(self):\n",
        "        pass\n",
        "    def getgender(self):\n",
        "        return \"Male\"\n",
        "\n",
        "class Female(Person):\n",
        "    def __init__(self):\n",
        "        pass\n",
        "    def getgender(self):\n",
        "        return \"Female\"\n",
        "\n",
        "p = Person()\n",
        "m=Male()\n",
        "print(m.getgender())\n",
        "f=Female()\n",
        "print(f.getgender())"
      ],
      "execution_count": 2,
      "outputs": [
        {
          "output_type": "stream",
          "text": [
            "Male\n",
            "Female\n"
          ],
          "name": "stdout"
        }
      ]
    },
    {
      "cell_type": "code",
      "metadata": {
        "colab": {
          "base_uri": "https://localhost:8080/"
        },
        "id": "jZc3J6bHLO12",
        "outputId": "9864af12-9fff-4343-b28b-e80658c0dadc"
      },
      "source": [
        "import zlib\n",
        "s = [\"I\", \"You\"]\n",
        "v = [\"Play\", \"Love\"]\n",
        "o = [\"Hockey\", \"Football\"]\n",
        "\n",
        "l = [i + \" \" + j + \" \" + \" \" + k for i in s for j in v for k in o]\n",
        "for i in l:\n",
        "    print(i)"
      ],
      "execution_count": 3,
      "outputs": [
        {
          "output_type": "stream",
          "text": [
            "I Play  Hockey\n",
            "I Play  Football\n",
            "I Love  Hockey\n",
            "I Love  Football\n",
            "You Play  Hockey\n",
            "You Play  Football\n",
            "You Love  Hockey\n",
            "You Love  Football\n"
          ],
          "name": "stdout"
        }
      ]
    },
    {
      "cell_type": "code",
      "metadata": {
        "colab": {
          "base_uri": "https://localhost:8080/"
        },
        "id": "pnJbNt1WLOoT",
        "outputId": "9e9febc2-62e5-4629-ac07-faa9b2986192"
      },
      "source": [
        "a = b\"hello world!hello world!hello world!hello world!\"\n",
        "a = zlib.compress(a)\n",
        "print(\"Source for compressing :\", a)\n",
        "print(\"Decompressing :\", zlib.decompress(a))"
      ],
      "execution_count": 4,
      "outputs": [
        {
          "output_type": "stream",
          "text": [
            "Source for compressing : b'x\\x9c\\xcbH\\xcd\\xc9\\xc9W(\\xcf/\\xcaIQ\\xcc \\x82\\r\\x00\\xbd[\\x11\\xf5'\n",
            "Decompressing : b'hello world!hello world!hello world!hello world!'\n"
          ],
          "name": "stdout"
        }
      ]
    },
    {
      "cell_type": "code",
      "metadata": {
        "colab": {
          "base_uri": "https://localhost:8080/"
        },
        "id": "4raXNDZyLOew",
        "outputId": "ab8fb428-bbf6-4de0-cccb-bfa6ebba063d"
      },
      "source": [
        "def bs(arr, low, high, x):\n",
        "\n",
        "    if high >= low:\n",
        "\n",
        "        mid = (high + low) // 2\n",
        "\n",
        "        if arr[mid] == x:\n",
        "            return mid\n",
        "\n",
        "        elif arr[mid] > x:\n",
        "            return binary_search(arr, low, mid - 1, x)\n",
        "\n",
        "        else:\n",
        "            return binary_search(arr, mid + 1, high, x)\n",
        "\n",
        "    else:\n",
        "        return -1\n",
        "\n",
        "\n",
        "arr = [1, 2, 3, 4, 5, 34, 90, 109, 901, 2000]\n",
        "x = 90\n",
        "\n",
        "result = binary_search(arr, 0, len(arr)-1, x)\n",
        "\n",
        "if result != -1:\n",
        "    print(\"Element is present at index\", str(result))\n",
        "else:\n",
        "    print(\"Element is not present in array\")"
      ],
      "execution_count": 6,
      "outputs": [
        {
          "output_type": "stream",
          "text": [
            "Element is present at index 6\n"
          ],
          "name": "stdout"
        }
      ]
    },
    {
      "cell_type": "code",
      "metadata": {
        "id": "BJYJSJizLOSb"
      },
      "source": [
        ""
      ],
      "execution_count": null,
      "outputs": []
    }
  ]
}